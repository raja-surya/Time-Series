{
 "cells": [
  {
   "cell_type": "markdown",
   "id": "da7e11ae",
   "metadata": {},
   "source": [
    "\n",
    "## Time Series Forecast on a sample 'Google Trends' data using SARIMA algorithm\n",
    "\n",
    "\n",
    "### Problem Statement\n",
    "\n",
    "Google Trends is a website by Google that analyzes the popularity of top search queries in Google Search across various regions and languages. The website uses graphs to compare the search volume of different queries over time.\n",
    "For a given search term, the numbers represent the search interest relative to the highest point on the chart for the selected region and time. A value of 100 is the peak popularity of the term, whilst a value of 50 means that the term is half as popular.\n",
    "\n",
    "We can download the \"Search score\" of any term searched in google over a period of time.\n",
    "\n",
    "##### The aim of this notebook is to analyse the search scores of the term \"Python\" (in the context of programming language) over a period of five years, and try to build a Time Series forecasting ML model based on the data.\n",
    "\n",
    "\n",
    "\n",
    "\n",
    "\n",
    "\n",
    "### Data Set <br>\n",
    "\n",
    "I downloaded the google trends data for the term \"Python\" for past 5 years, which is downloadable at\n",
    "\n",
    "https://trends.google.com/trends/?geo=IN\n",
    "\n",
    "\n",
    "### Steps\n",
    "\n",
    "#### 1. Read the data\n",
    "\n",
    "#### 2. Exploratory Data Analysis\n",
    "\n",
    "#### 3. Modelling\n",
    "\n",
    "##### &emsp;      3.1 DF Test\n",
    "\n",
    "##### &emsp;     3.2 First order differencing\n",
    "\n",
    "##### &emsp;     3.3 ACF and PACF Analysis \n",
    "\n",
    "##### &emsp;     3.4  Baseline Model - Holt Winters Algorithm\n",
    "\n",
    "##### &emsp;     3.5  Finding the optimum parameters for SARIMA - p,q and P,Q\n",
    "\n",
    "##### &emsp;     3.6  SARIMA Model Training & Forecast\n",
    "\n",
    "##### &emsp;     3.7  Rolling Forecast\n",
    "\n",
    "\n",
    "\n"
   ]
  },
  {
   "cell_type": "code",
   "execution_count": 1,
   "id": "8a8fbe56",
   "metadata": {},
   "outputs": [],
   "source": [
    "#import requests\n",
    "import pandas as pd\n",
    "import numpy as np\n",
    "\n",
    "import matplotlib.pyplot as plt\n",
    "from datetime import datetime\n",
    "\n",
    "from pandas import Series\n",
    "%matplotlib inline\n",
    "import warnings\n",
    "\n",
    "warnings.filterwarnings(\"ignore\")\n",
    "\n",
    "import statsmodels.api as sm"
   ]
  },
  {
   "cell_type": "markdown",
   "id": "dbc53997",
   "metadata": {},
   "source": [
    "## 1. Read the data"
   ]
  },
  {
   "cell_type": "code",
   "execution_count": 2,
   "id": "403d1960",
   "metadata": {},
   "outputs": [],
   "source": [
    "df = pd.read_csv('python_5years.csv')"
   ]
  },
  {
   "cell_type": "code",
   "execution_count": 3,
   "id": "552ae839",
   "metadata": {},
   "outputs": [
    {
     "data": {
      "text/plain": [
       "Index(['Category: Jobs & Education'], dtype='object')"
      ]
     },
     "execution_count": 3,
     "metadata": {},
     "output_type": "execute_result"
    }
   ],
   "source": [
    "df.columns"
   ]
  },
  {
   "cell_type": "code",
   "execution_count": 4,
   "id": "20f33b04",
   "metadata": {},
   "outputs": [],
   "source": [
    "#print(df.iloc[1].items)"
   ]
  },
  {
   "cell_type": "code",
   "execution_count": 5,
   "id": "1aee3a0f",
   "metadata": {},
   "outputs": [],
   "source": [
    "#df = df['items'].apply(pd.Series)"
   ]
  },
  {
   "cell_type": "markdown",
   "id": "76aa2a01",
   "metadata": {},
   "source": [
    "## 2. Exploratory Data Analysis"
   ]
  },
  {
   "cell_type": "code",
   "execution_count": 6,
   "id": "87a568b8",
   "metadata": {},
   "outputs": [
    {
     "data": {
      "text/html": [
       "<div>\n",
       "<style scoped>\n",
       "    .dataframe tbody tr th:only-of-type {\n",
       "        vertical-align: middle;\n",
       "    }\n",
       "\n",
       "    .dataframe tbody tr th {\n",
       "        vertical-align: top;\n",
       "    }\n",
       "\n",
       "    .dataframe thead th {\n",
       "        text-align: right;\n",
       "    }\n",
       "</style>\n",
       "<table border=\"1\" class=\"dataframe\">\n",
       "  <thead>\n",
       "    <tr style=\"text-align: right;\">\n",
       "      <th></th>\n",
       "      <th>Category: Jobs &amp; Education</th>\n",
       "    </tr>\n",
       "  </thead>\n",
       "  <tbody>\n",
       "    <tr>\n",
       "      <th>Week</th>\n",
       "      <td>Python: (Worldwide)</td>\n",
       "    </tr>\n",
       "    <tr>\n",
       "      <th>2016-07-10</th>\n",
       "      <td>26</td>\n",
       "    </tr>\n",
       "    <tr>\n",
       "      <th>2016-07-17</th>\n",
       "      <td>30</td>\n",
       "    </tr>\n",
       "    <tr>\n",
       "      <th>2016-07-24</th>\n",
       "      <td>24</td>\n",
       "    </tr>\n",
       "    <tr>\n",
       "      <th>2016-07-31</th>\n",
       "      <td>22</td>\n",
       "    </tr>\n",
       "    <tr>\n",
       "      <th>...</th>\n",
       "      <td>...</td>\n",
       "    </tr>\n",
       "    <tr>\n",
       "      <th>2021-06-06</th>\n",
       "      <td>86</td>\n",
       "    </tr>\n",
       "    <tr>\n",
       "      <th>2021-06-13</th>\n",
       "      <td>75</td>\n",
       "    </tr>\n",
       "    <tr>\n",
       "      <th>2021-06-20</th>\n",
       "      <td>79</td>\n",
       "    </tr>\n",
       "    <tr>\n",
       "      <th>2021-06-27</th>\n",
       "      <td>75</td>\n",
       "    </tr>\n",
       "    <tr>\n",
       "      <th>2021-07-04</th>\n",
       "      <td>62</td>\n",
       "    </tr>\n",
       "  </tbody>\n",
       "</table>\n",
       "<p>262 rows × 1 columns</p>\n",
       "</div>"
      ],
      "text/plain": [
       "           Category: Jobs & Education\n",
       "Week              Python: (Worldwide)\n",
       "2016-07-10                         26\n",
       "2016-07-17                         30\n",
       "2016-07-24                         24\n",
       "2016-07-31                         22\n",
       "...                               ...\n",
       "2021-06-06                         86\n",
       "2021-06-13                         75\n",
       "2021-06-20                         79\n",
       "2021-06-27                         75\n",
       "2021-07-04                         62\n",
       "\n",
       "[262 rows x 1 columns]"
      ]
     },
     "execution_count": 6,
     "metadata": {},
     "output_type": "execute_result"
    }
   ],
   "source": [
    "df"
   ]
  },
  {
   "cell_type": "markdown",
   "id": "9ed7063d",
   "metadata": {},
   "source": [
    "#### The data contains weekly \"search score\" of the term \"Python\" worldwide in the category \"Jobs & Education\", from the start date 10th July 2016 to 4th July 2021 ( 5 years and 261 weeks )"
   ]
  },
  {
   "cell_type": "code",
   "execution_count": 7,
   "id": "5e349e50",
   "metadata": {},
   "outputs": [
    {
     "data": {
      "text/html": [
       "<div>\n",
       "<style scoped>\n",
       "    .dataframe tbody tr th:only-of-type {\n",
       "        vertical-align: middle;\n",
       "    }\n",
       "\n",
       "    .dataframe tbody tr th {\n",
       "        vertical-align: top;\n",
       "    }\n",
       "\n",
       "    .dataframe thead th {\n",
       "        text-align: right;\n",
       "    }\n",
       "</style>\n",
       "<table border=\"1\" class=\"dataframe\">\n",
       "  <thead>\n",
       "    <tr style=\"text-align: right;\">\n",
       "      <th></th>\n",
       "      <th>week</th>\n",
       "      <th>score</th>\n",
       "    </tr>\n",
       "  </thead>\n",
       "  <tbody>\n",
       "    <tr>\n",
       "      <th>1</th>\n",
       "      <td>2016-07-10</td>\n",
       "      <td>26</td>\n",
       "    </tr>\n",
       "    <tr>\n",
       "      <th>2</th>\n",
       "      <td>2016-07-17</td>\n",
       "      <td>30</td>\n",
       "    </tr>\n",
       "    <tr>\n",
       "      <th>3</th>\n",
       "      <td>2016-07-24</td>\n",
       "      <td>24</td>\n",
       "    </tr>\n",
       "    <tr>\n",
       "      <th>4</th>\n",
       "      <td>2016-07-31</td>\n",
       "      <td>22</td>\n",
       "    </tr>\n",
       "    <tr>\n",
       "      <th>5</th>\n",
       "      <td>2016-08-07</td>\n",
       "      <td>21</td>\n",
       "    </tr>\n",
       "    <tr>\n",
       "      <th>...</th>\n",
       "      <td>...</td>\n",
       "      <td>...</td>\n",
       "    </tr>\n",
       "    <tr>\n",
       "      <th>257</th>\n",
       "      <td>2021-06-06</td>\n",
       "      <td>86</td>\n",
       "    </tr>\n",
       "    <tr>\n",
       "      <th>258</th>\n",
       "      <td>2021-06-13</td>\n",
       "      <td>75</td>\n",
       "    </tr>\n",
       "    <tr>\n",
       "      <th>259</th>\n",
       "      <td>2021-06-20</td>\n",
       "      <td>79</td>\n",
       "    </tr>\n",
       "    <tr>\n",
       "      <th>260</th>\n",
       "      <td>2021-06-27</td>\n",
       "      <td>75</td>\n",
       "    </tr>\n",
       "    <tr>\n",
       "      <th>261</th>\n",
       "      <td>2021-07-04</td>\n",
       "      <td>62</td>\n",
       "    </tr>\n",
       "  </tbody>\n",
       "</table>\n",
       "<p>261 rows × 2 columns</p>\n",
       "</div>"
      ],
      "text/plain": [
       "           week score\n",
       "1    2016-07-10    26\n",
       "2    2016-07-17    30\n",
       "3    2016-07-24    24\n",
       "4    2016-07-31    22\n",
       "5    2016-08-07    21\n",
       "..          ...   ...\n",
       "257  2021-06-06    86\n",
       "258  2021-06-13    75\n",
       "259  2021-06-20    79\n",
       "260  2021-06-27    75\n",
       "261  2021-07-04    62\n",
       "\n",
       "[261 rows x 2 columns]"
      ]
     },
     "execution_count": 7,
     "metadata": {},
     "output_type": "execute_result"
    }
   ],
   "source": [
    "### Rename the columns\n",
    "new_df = df.reset_index().rename(columns={'index':'week', 'Category: Jobs & Education' : 'score'})\n",
    "\n",
    "### Remove the header row\n",
    "new_df = new_df.iloc[1:len(new_df)]\n",
    "\n",
    "new_df"
   ]
  },
  {
   "cell_type": "code",
   "execution_count": 8,
   "id": "e7146759",
   "metadata": {},
   "outputs": [
    {
     "name": "stdout",
     "output_type": "stream",
     "text": [
      "<class 'pandas.core.frame.DataFrame'>\n",
      "RangeIndex: 261 entries, 1 to 261\n",
      "Data columns (total 2 columns):\n",
      " #   Column  Non-Null Count  Dtype \n",
      "---  ------  --------------  ----- \n",
      " 0   week    261 non-null    object\n",
      " 1   score   261 non-null    object\n",
      "dtypes: object(2)\n",
      "memory usage: 4.2+ KB\n"
     ]
    }
   ],
   "source": [
    "new_df.info()"
   ]
  },
  {
   "cell_type": "markdown",
   "id": "3fe3857b",
   "metadata": {},
   "source": [
    "##### Let us change the week column to datetime format"
   ]
  },
  {
   "cell_type": "code",
   "execution_count": 9,
   "id": "fa1e1d15",
   "metadata": {},
   "outputs": [
    {
     "data": {
      "text/html": [
       "<div>\n",
       "<style scoped>\n",
       "    .dataframe tbody tr th:only-of-type {\n",
       "        vertical-align: middle;\n",
       "    }\n",
       "\n",
       "    .dataframe tbody tr th {\n",
       "        vertical-align: top;\n",
       "    }\n",
       "\n",
       "    .dataframe thead th {\n",
       "        text-align: right;\n",
       "    }\n",
       "</style>\n",
       "<table border=\"1\" class=\"dataframe\">\n",
       "  <thead>\n",
       "    <tr style=\"text-align: right;\">\n",
       "      <th></th>\n",
       "      <th>week</th>\n",
       "      <th>score</th>\n",
       "    </tr>\n",
       "  </thead>\n",
       "  <tbody>\n",
       "    <tr>\n",
       "      <th>1</th>\n",
       "      <td>2016-07-10</td>\n",
       "      <td>26</td>\n",
       "    </tr>\n",
       "    <tr>\n",
       "      <th>2</th>\n",
       "      <td>2016-07-17</td>\n",
       "      <td>30</td>\n",
       "    </tr>\n",
       "    <tr>\n",
       "      <th>3</th>\n",
       "      <td>2016-07-24</td>\n",
       "      <td>24</td>\n",
       "    </tr>\n",
       "    <tr>\n",
       "      <th>4</th>\n",
       "      <td>2016-07-31</td>\n",
       "      <td>22</td>\n",
       "    </tr>\n",
       "    <tr>\n",
       "      <th>5</th>\n",
       "      <td>2016-08-07</td>\n",
       "      <td>21</td>\n",
       "    </tr>\n",
       "    <tr>\n",
       "      <th>...</th>\n",
       "      <td>...</td>\n",
       "      <td>...</td>\n",
       "    </tr>\n",
       "    <tr>\n",
       "      <th>257</th>\n",
       "      <td>2021-06-06</td>\n",
       "      <td>86</td>\n",
       "    </tr>\n",
       "    <tr>\n",
       "      <th>258</th>\n",
       "      <td>2021-06-13</td>\n",
       "      <td>75</td>\n",
       "    </tr>\n",
       "    <tr>\n",
       "      <th>259</th>\n",
       "      <td>2021-06-20</td>\n",
       "      <td>79</td>\n",
       "    </tr>\n",
       "    <tr>\n",
       "      <th>260</th>\n",
       "      <td>2021-06-27</td>\n",
       "      <td>75</td>\n",
       "    </tr>\n",
       "    <tr>\n",
       "      <th>261</th>\n",
       "      <td>2021-07-04</td>\n",
       "      <td>62</td>\n",
       "    </tr>\n",
       "  </tbody>\n",
       "</table>\n",
       "<p>261 rows × 2 columns</p>\n",
       "</div>"
      ],
      "text/plain": [
       "          week  score\n",
       "1   2016-07-10     26\n",
       "2   2016-07-17     30\n",
       "3   2016-07-24     24\n",
       "4   2016-07-31     22\n",
       "5   2016-08-07     21\n",
       "..         ...    ...\n",
       "257 2021-06-06     86\n",
       "258 2021-06-13     75\n",
       "259 2021-06-20     79\n",
       "260 2021-06-27     75\n",
       "261 2021-07-04     62\n",
       "\n",
       "[261 rows x 2 columns]"
      ]
     },
     "execution_count": 9,
     "metadata": {},
     "output_type": "execute_result"
    }
   ],
   "source": [
    "new_df.week = pd.to_datetime(new_df.week, format='%Y-%m-%d')\n",
    "new_df.score = new_df.score.astype(int)\n",
    "new_df"
   ]
  },
  {
   "cell_type": "markdown",
   "id": "31f74183",
   "metadata": {},
   "source": [
    "##### Extract the year, month and day separately"
   ]
  },
  {
   "cell_type": "code",
   "execution_count": 10,
   "id": "f5fd9f88",
   "metadata": {},
   "outputs": [
    {
     "data": {
      "text/html": [
       "<div>\n",
       "<style scoped>\n",
       "    .dataframe tbody tr th:only-of-type {\n",
       "        vertical-align: middle;\n",
       "    }\n",
       "\n",
       "    .dataframe tbody tr th {\n",
       "        vertical-align: top;\n",
       "    }\n",
       "\n",
       "    .dataframe thead th {\n",
       "        text-align: right;\n",
       "    }\n",
       "</style>\n",
       "<table border=\"1\" class=\"dataframe\">\n",
       "  <thead>\n",
       "    <tr style=\"text-align: right;\">\n",
       "      <th></th>\n",
       "      <th>week</th>\n",
       "      <th>score</th>\n",
       "      <th>year</th>\n",
       "      <th>month</th>\n",
       "      <th>day</th>\n",
       "    </tr>\n",
       "  </thead>\n",
       "  <tbody>\n",
       "    <tr>\n",
       "      <th>1</th>\n",
       "      <td>2016-07-10</td>\n",
       "      <td>26</td>\n",
       "      <td>2016</td>\n",
       "      <td>7</td>\n",
       "      <td>10</td>\n",
       "    </tr>\n",
       "    <tr>\n",
       "      <th>2</th>\n",
       "      <td>2016-07-17</td>\n",
       "      <td>30</td>\n",
       "      <td>2016</td>\n",
       "      <td>7</td>\n",
       "      <td>17</td>\n",
       "    </tr>\n",
       "    <tr>\n",
       "      <th>3</th>\n",
       "      <td>2016-07-24</td>\n",
       "      <td>24</td>\n",
       "      <td>2016</td>\n",
       "      <td>7</td>\n",
       "      <td>24</td>\n",
       "    </tr>\n",
       "    <tr>\n",
       "      <th>4</th>\n",
       "      <td>2016-07-31</td>\n",
       "      <td>22</td>\n",
       "      <td>2016</td>\n",
       "      <td>7</td>\n",
       "      <td>31</td>\n",
       "    </tr>\n",
       "    <tr>\n",
       "      <th>5</th>\n",
       "      <td>2016-08-07</td>\n",
       "      <td>21</td>\n",
       "      <td>2016</td>\n",
       "      <td>8</td>\n",
       "      <td>7</td>\n",
       "    </tr>\n",
       "    <tr>\n",
       "      <th>...</th>\n",
       "      <td>...</td>\n",
       "      <td>...</td>\n",
       "      <td>...</td>\n",
       "      <td>...</td>\n",
       "      <td>...</td>\n",
       "    </tr>\n",
       "    <tr>\n",
       "      <th>257</th>\n",
       "      <td>2021-06-06</td>\n",
       "      <td>86</td>\n",
       "      <td>2021</td>\n",
       "      <td>6</td>\n",
       "      <td>6</td>\n",
       "    </tr>\n",
       "    <tr>\n",
       "      <th>258</th>\n",
       "      <td>2021-06-13</td>\n",
       "      <td>75</td>\n",
       "      <td>2021</td>\n",
       "      <td>6</td>\n",
       "      <td>13</td>\n",
       "    </tr>\n",
       "    <tr>\n",
       "      <th>259</th>\n",
       "      <td>2021-06-20</td>\n",
       "      <td>79</td>\n",
       "      <td>2021</td>\n",
       "      <td>6</td>\n",
       "      <td>20</td>\n",
       "    </tr>\n",
       "    <tr>\n",
       "      <th>260</th>\n",
       "      <td>2021-06-27</td>\n",
       "      <td>75</td>\n",
       "      <td>2021</td>\n",
       "      <td>6</td>\n",
       "      <td>27</td>\n",
       "    </tr>\n",
       "    <tr>\n",
       "      <th>261</th>\n",
       "      <td>2021-07-04</td>\n",
       "      <td>62</td>\n",
       "      <td>2021</td>\n",
       "      <td>7</td>\n",
       "      <td>4</td>\n",
       "    </tr>\n",
       "  </tbody>\n",
       "</table>\n",
       "<p>261 rows × 5 columns</p>\n",
       "</div>"
      ],
      "text/plain": [
       "          week  score  year  month  day\n",
       "1   2016-07-10     26  2016      7   10\n",
       "2   2016-07-17     30  2016      7   17\n",
       "3   2016-07-24     24  2016      7   24\n",
       "4   2016-07-31     22  2016      7   31\n",
       "5   2016-08-07     21  2016      8    7\n",
       "..         ...    ...   ...    ...  ...\n",
       "257 2021-06-06     86  2021      6    6\n",
       "258 2021-06-13     75  2021      6   13\n",
       "259 2021-06-20     79  2021      6   20\n",
       "260 2021-06-27     75  2021      6   27\n",
       "261 2021-07-04     62  2021      7    4\n",
       "\n",
       "[261 rows x 5 columns]"
      ]
     },
     "execution_count": 10,
     "metadata": {},
     "output_type": "execute_result"
    }
   ],
   "source": [
    "new_df['year'] = new_df.week.dt.year\n",
    "new_df['month'] = new_df.week.dt.month\n",
    "new_df['day'] = new_df.week.dt.day\n",
    "new_df"
   ]
  },
  {
   "cell_type": "code",
   "execution_count": 11,
   "id": "c480b39c",
   "metadata": {},
   "outputs": [
    {
     "data": {
      "text/html": [
       "<div>\n",
       "<style scoped>\n",
       "    .dataframe tbody tr th:only-of-type {\n",
       "        vertical-align: middle;\n",
       "    }\n",
       "\n",
       "    .dataframe tbody tr th {\n",
       "        vertical-align: top;\n",
       "    }\n",
       "\n",
       "    .dataframe thead th {\n",
       "        text-align: right;\n",
       "    }\n",
       "</style>\n",
       "<table border=\"1\" class=\"dataframe\">\n",
       "  <thead>\n",
       "    <tr style=\"text-align: right;\">\n",
       "      <th></th>\n",
       "      <th>week</th>\n",
       "      <th>score</th>\n",
       "      <th>year</th>\n",
       "      <th>month</th>\n",
       "      <th>day</th>\n",
       "    </tr>\n",
       "    <tr>\n",
       "      <th>week</th>\n",
       "      <th></th>\n",
       "      <th></th>\n",
       "      <th></th>\n",
       "      <th></th>\n",
       "      <th></th>\n",
       "    </tr>\n",
       "  </thead>\n",
       "  <tbody>\n",
       "    <tr>\n",
       "      <th>2016-07-10</th>\n",
       "      <td>2016-07-10</td>\n",
       "      <td>26</td>\n",
       "      <td>2016</td>\n",
       "      <td>7</td>\n",
       "      <td>10</td>\n",
       "    </tr>\n",
       "    <tr>\n",
       "      <th>2016-07-17</th>\n",
       "      <td>2016-07-17</td>\n",
       "      <td>30</td>\n",
       "      <td>2016</td>\n",
       "      <td>7</td>\n",
       "      <td>17</td>\n",
       "    </tr>\n",
       "    <tr>\n",
       "      <th>2016-07-24</th>\n",
       "      <td>2016-07-24</td>\n",
       "      <td>24</td>\n",
       "      <td>2016</td>\n",
       "      <td>7</td>\n",
       "      <td>24</td>\n",
       "    </tr>\n",
       "    <tr>\n",
       "      <th>2016-07-31</th>\n",
       "      <td>2016-07-31</td>\n",
       "      <td>22</td>\n",
       "      <td>2016</td>\n",
       "      <td>7</td>\n",
       "      <td>31</td>\n",
       "    </tr>\n",
       "    <tr>\n",
       "      <th>2016-08-07</th>\n",
       "      <td>2016-08-07</td>\n",
       "      <td>21</td>\n",
       "      <td>2016</td>\n",
       "      <td>8</td>\n",
       "      <td>7</td>\n",
       "    </tr>\n",
       "    <tr>\n",
       "      <th>...</th>\n",
       "      <td>...</td>\n",
       "      <td>...</td>\n",
       "      <td>...</td>\n",
       "      <td>...</td>\n",
       "      <td>...</td>\n",
       "    </tr>\n",
       "    <tr>\n",
       "      <th>2021-06-06</th>\n",
       "      <td>2021-06-06</td>\n",
       "      <td>86</td>\n",
       "      <td>2021</td>\n",
       "      <td>6</td>\n",
       "      <td>6</td>\n",
       "    </tr>\n",
       "    <tr>\n",
       "      <th>2021-06-13</th>\n",
       "      <td>2021-06-13</td>\n",
       "      <td>75</td>\n",
       "      <td>2021</td>\n",
       "      <td>6</td>\n",
       "      <td>13</td>\n",
       "    </tr>\n",
       "    <tr>\n",
       "      <th>2021-06-20</th>\n",
       "      <td>2021-06-20</td>\n",
       "      <td>79</td>\n",
       "      <td>2021</td>\n",
       "      <td>6</td>\n",
       "      <td>20</td>\n",
       "    </tr>\n",
       "    <tr>\n",
       "      <th>2021-06-27</th>\n",
       "      <td>2021-06-27</td>\n",
       "      <td>75</td>\n",
       "      <td>2021</td>\n",
       "      <td>6</td>\n",
       "      <td>27</td>\n",
       "    </tr>\n",
       "    <tr>\n",
       "      <th>2021-07-04</th>\n",
       "      <td>2021-07-04</td>\n",
       "      <td>62</td>\n",
       "      <td>2021</td>\n",
       "      <td>7</td>\n",
       "      <td>4</td>\n",
       "    </tr>\n",
       "  </tbody>\n",
       "</table>\n",
       "<p>261 rows × 5 columns</p>\n",
       "</div>"
      ],
      "text/plain": [
       "                 week  score  year  month  day\n",
       "week                                          \n",
       "2016-07-10 2016-07-10     26  2016      7   10\n",
       "2016-07-17 2016-07-17     30  2016      7   17\n",
       "2016-07-24 2016-07-24     24  2016      7   24\n",
       "2016-07-31 2016-07-31     22  2016      7   31\n",
       "2016-08-07 2016-08-07     21  2016      8    7\n",
       "...               ...    ...   ...    ...  ...\n",
       "2021-06-06 2021-06-06     86  2021      6    6\n",
       "2021-06-13 2021-06-13     75  2021      6   13\n",
       "2021-06-20 2021-06-20     79  2021      6   20\n",
       "2021-06-27 2021-06-27     75  2021      6   27\n",
       "2021-07-04 2021-07-04     62  2021      7    4\n",
       "\n",
       "[261 rows x 5 columns]"
      ]
     },
     "execution_count": 11,
     "metadata": {},
     "output_type": "execute_result"
    }
   ],
   "source": [
    "#### Set the index as week\n",
    "new_df.index = new_df.week\n",
    "new_df"
   ]
  },
  {
   "cell_type": "code",
   "execution_count": 12,
   "id": "71215a46",
   "metadata": {},
   "outputs": [
    {
     "data": {
      "text/plain": [
       "<AxesSubplot:xlabel='month'>"
      ]
     },
     "execution_count": 12,
     "metadata": {},
     "output_type": "execute_result"
    },
    {
     "data": {
      "image/png": "[encoded data removed]",
      "text/plain": [
       "<Figure size 432x288 with 1 Axes>"
      ]
     },
     "metadata": {
      "needs_background": "light"
     },
     "output_type": "display_data"
    }
   ],
   "source": [
    "new_df.groupby('month').score.mean().plot.bar()"
   ]
  },
  {
   "cell_type": "markdown",
   "id": "a52ba769",
   "metadata": {},
   "source": [
    "#### The average search score almost remains same for all the months"
   ]
  },
  {
   "cell_type": "code",
   "execution_count": 13,
   "id": "7ae92ec2",
   "metadata": {},
   "outputs": [
    {
     "data": {
      "text/plain": [
       "<AxesSubplot:xlabel='year'>"
      ]
     },
     "execution_count": 13,
     "metadata": {},
     "output_type": "execute_result"
    },
    {
     "data": {
      "image/png": "[encoded data removed]",
      "text/plain": [
       "<Figure size 432x288 with 1 Axes>"
      ]
     },
     "metadata": {
      "needs_background": "light"
     },
     "output_type": "display_data"
    }
   ],
   "source": [
    "new_df.groupby('year').score.mean().plot.bar()"
   ]
  },
  {
   "cell_type": "markdown",
   "id": "e4f78f3a",
   "metadata": {},
   "source": [
    "#### There is a clear upward trend of search scores from 2016 to 2020. 2021 looks almost similar to 2020."
   ]
  },
  {
   "cell_type": "code",
   "execution_count": 14,
   "id": "a0ab7c65",
   "metadata": {},
   "outputs": [
    {
     "data": {
      "text/html": [
       "<div>\n",
       "<style scoped>\n",
       "    .dataframe tbody tr th:only-of-type {\n",
       "        vertical-align: middle;\n",
       "    }\n",
       "\n",
       "    .dataframe tbody tr th {\n",
       "        vertical-align: top;\n",
       "    }\n",
       "\n",
       "    .dataframe thead th {\n",
       "        text-align: right;\n",
       "    }\n",
       "</style>\n",
       "<table border=\"1\" class=\"dataframe\">\n",
       "  <thead>\n",
       "    <tr style=\"text-align: right;\">\n",
       "      <th></th>\n",
       "      <th>week</th>\n",
       "      <th>score</th>\n",
       "      <th>year</th>\n",
       "      <th>month</th>\n",
       "      <th>day</th>\n",
       "    </tr>\n",
       "    <tr>\n",
       "      <th>week</th>\n",
       "      <th></th>\n",
       "      <th></th>\n",
       "      <th></th>\n",
       "      <th></th>\n",
       "      <th></th>\n",
       "    </tr>\n",
       "  </thead>\n",
       "  <tbody>\n",
       "    <tr>\n",
       "      <th>2016-07-10</th>\n",
       "      <td>2016-07-10</td>\n",
       "      <td>26</td>\n",
       "      <td>2016</td>\n",
       "      <td>7</td>\n",
       "      <td>10</td>\n",
       "    </tr>\n",
       "    <tr>\n",
       "      <th>2016-07-17</th>\n",
       "      <td>2016-07-17</td>\n",
       "      <td>30</td>\n",
       "      <td>2016</td>\n",
       "      <td>7</td>\n",
       "      <td>17</td>\n",
       "    </tr>\n",
       "    <tr>\n",
       "      <th>2016-07-24</th>\n",
       "      <td>2016-07-24</td>\n",
       "      <td>24</td>\n",
       "      <td>2016</td>\n",
       "      <td>7</td>\n",
       "      <td>24</td>\n",
       "    </tr>\n",
       "    <tr>\n",
       "      <th>2016-07-31</th>\n",
       "      <td>2016-07-31</td>\n",
       "      <td>22</td>\n",
       "      <td>2016</td>\n",
       "      <td>7</td>\n",
       "      <td>31</td>\n",
       "    </tr>\n",
       "    <tr>\n",
       "      <th>2016-08-07</th>\n",
       "      <td>2016-08-07</td>\n",
       "      <td>21</td>\n",
       "      <td>2016</td>\n",
       "      <td>8</td>\n",
       "      <td>7</td>\n",
       "    </tr>\n",
       "    <tr>\n",
       "      <th>...</th>\n",
       "      <td>...</td>\n",
       "      <td>...</td>\n",
       "      <td>...</td>\n",
       "      <td>...</td>\n",
       "      <td>...</td>\n",
       "    </tr>\n",
       "    <tr>\n",
       "      <th>2021-06-06</th>\n",
       "      <td>2021-06-06</td>\n",
       "      <td>86</td>\n",
       "      <td>2021</td>\n",
       "      <td>6</td>\n",
       "      <td>6</td>\n",
       "    </tr>\n",
       "    <tr>\n",
       "      <th>2021-06-13</th>\n",
       "      <td>2021-06-13</td>\n",
       "      <td>75</td>\n",
       "      <td>2021</td>\n",
       "      <td>6</td>\n",
       "      <td>13</td>\n",
       "    </tr>\n",
       "    <tr>\n",
       "      <th>2021-06-20</th>\n",
       "      <td>2021-06-20</td>\n",
       "      <td>79</td>\n",
       "      <td>2021</td>\n",
       "      <td>6</td>\n",
       "      <td>20</td>\n",
       "    </tr>\n",
       "    <tr>\n",
       "      <th>2021-06-27</th>\n",
       "      <td>2021-06-27</td>\n",
       "      <td>75</td>\n",
       "      <td>2021</td>\n",
       "      <td>6</td>\n",
       "      <td>27</td>\n",
       "    </tr>\n",
       "    <tr>\n",
       "      <th>2021-07-04</th>\n",
       "      <td>2021-07-04</td>\n",
       "      <td>62</td>\n",
       "      <td>2021</td>\n",
       "      <td>7</td>\n",
       "      <td>4</td>\n",
       "    </tr>\n",
       "  </tbody>\n",
       "</table>\n",
       "<p>261 rows × 5 columns</p>\n",
       "</div>"
      ],
      "text/plain": [
       "                 week  score  year  month  day\n",
       "week                                          \n",
       "2016-07-10 2016-07-10     26  2016      7   10\n",
       "2016-07-17 2016-07-17     30  2016      7   17\n",
       "2016-07-24 2016-07-24     24  2016      7   24\n",
       "2016-07-31 2016-07-31     22  2016      7   31\n",
       "2016-08-07 2016-08-07     21  2016      8    7\n",
       "...               ...    ...   ...    ...  ...\n",
       "2021-06-06 2021-06-06     86  2021      6    6\n",
       "2021-06-13 2021-06-13     75  2021      6   13\n",
       "2021-06-20 2021-06-20     79  2021      6   20\n",
       "2021-06-27 2021-06-27     75  2021      6   27\n",
       "2021-07-04 2021-07-04     62  2021      7    4\n",
       "\n",
       "[261 rows x 5 columns]"
      ]
     },
     "execution_count": 14,
     "metadata": {},
     "output_type": "execute_result"
    }
   ],
   "source": [
    "new_df"
   ]
  },
  {
   "cell_type": "markdown",
   "id": "bf20769d",
   "metadata": {},
   "source": [
    "#### Plot the time series"
   ]
  },
  {
   "cell_type": "code",
   "execution_count": 15,
   "id": "c122dab0",
   "metadata": {},
   "outputs": [
    {
     "data": {
      "text/plain": [
       "<matplotlib.legend.Legend at 0x15b004696d8>"
      ]
     },
     "execution_count": 15,
     "metadata": {},
     "output_type": "execute_result"
    },
    {
     "data": {
      "image/png": "[encoded data removed]",
      "text/plain": [
       "<Figure size 1152x576 with 1 Axes>"
      ]
     },
     "metadata": {
      "needs_background": "light"
     },
     "output_type": "display_data"
    }
   ],
   "source": [
    "plt.figure(figsize=(16,8))\n",
    "\n",
    "plt.plot(new_df['score'], \".-\", label = 'Score')\n",
    "\n",
    "plt.title('Search Score Weekly Time Series', fontsize=20)\n",
    "plt.xlabel(\"Time(Year)\", fontsize=16)\n",
    "plt.ylabel(\"Score\", fontsize=16)\n",
    "plt.legend(loc = 'best')\n"
   ]
  },
  {
   "cell_type": "markdown",
   "id": "42bced7b",
   "metadata": {},
   "source": [
    "##### There is a clear upward trend from 2016 to 2020 and then the plot stabilizes "
   ]
  },
  {
   "cell_type": "markdown",
   "id": "8fe9730e",
   "metadata": {},
   "source": [
    "## 3. Modelling"
   ]
  },
  {
   "cell_type": "markdown",
   "id": "b3039371",
   "metadata": {},
   "source": [
    "##### Since the weekly time series looks bit noisy, let us aggregate and convert it to a monthly series"
   ]
  },
  {
   "cell_type": "code",
   "execution_count": 64,
   "id": "a16ec78e",
   "metadata": {},
   "outputs": [
    {
     "data": {
      "text/html": [
       "<div>\n",
       "<style scoped>\n",
       "    .dataframe tbody tr th:only-of-type {\n",
       "        vertical-align: middle;\n",
       "    }\n",
       "\n",
       "    .dataframe tbody tr th {\n",
       "        vertical-align: top;\n",
       "    }\n",
       "\n",
       "    .dataframe thead th {\n",
       "        text-align: right;\n",
       "    }\n",
       "</style>\n",
       "<table border=\"1\" class=\"dataframe\">\n",
       "  <thead>\n",
       "    <tr style=\"text-align: right;\">\n",
       "      <th></th>\n",
       "      <th>score</th>\n",
       "      <th>year</th>\n",
       "      <th>month</th>\n",
       "      <th>day</th>\n",
       "    </tr>\n",
       "    <tr>\n",
       "      <th>week</th>\n",
       "      <th></th>\n",
       "      <th></th>\n",
       "      <th></th>\n",
       "      <th></th>\n",
       "    </tr>\n",
       "  </thead>\n",
       "  <tbody>\n",
       "    <tr>\n",
       "      <th>2016-07-31</th>\n",
       "      <td>102</td>\n",
       "      <td>8064</td>\n",
       "      <td>28</td>\n",
       "      <td>82</td>\n",
       "    </tr>\n",
       "    <tr>\n",
       "      <th>2016-08-31</th>\n",
       "      <td>96</td>\n",
       "      <td>8064</td>\n",
       "      <td>32</td>\n",
       "      <td>70</td>\n",
       "    </tr>\n",
       "    <tr>\n",
       "      <th>2016-09-30</th>\n",
       "      <td>122</td>\n",
       "      <td>8064</td>\n",
       "      <td>36</td>\n",
       "      <td>58</td>\n",
       "    </tr>\n",
       "    <tr>\n",
       "      <th>2016-10-31</th>\n",
       "      <td>142</td>\n",
       "      <td>10080</td>\n",
       "      <td>50</td>\n",
       "      <td>80</td>\n",
       "    </tr>\n",
       "    <tr>\n",
       "      <th>2016-11-30</th>\n",
       "      <td>114</td>\n",
       "      <td>8064</td>\n",
       "      <td>44</td>\n",
       "      <td>66</td>\n",
       "    </tr>\n",
       "    <tr>\n",
       "      <th>...</th>\n",
       "      <td>...</td>\n",
       "      <td>...</td>\n",
       "      <td>...</td>\n",
       "      <td>...</td>\n",
       "    </tr>\n",
       "    <tr>\n",
       "      <th>2021-03-31</th>\n",
       "      <td>315</td>\n",
       "      <td>8084</td>\n",
       "      <td>12</td>\n",
       "      <td>70</td>\n",
       "    </tr>\n",
       "    <tr>\n",
       "      <th>2021-04-30</th>\n",
       "      <td>315</td>\n",
       "      <td>8084</td>\n",
       "      <td>16</td>\n",
       "      <td>58</td>\n",
       "    </tr>\n",
       "    <tr>\n",
       "      <th>2021-05-31</th>\n",
       "      <td>395</td>\n",
       "      <td>10105</td>\n",
       "      <td>25</td>\n",
       "      <td>80</td>\n",
       "    </tr>\n",
       "    <tr>\n",
       "      <th>2021-06-30</th>\n",
       "      <td>315</td>\n",
       "      <td>8084</td>\n",
       "      <td>24</td>\n",
       "      <td>66</td>\n",
       "    </tr>\n",
       "    <tr>\n",
       "      <th>2021-07-31</th>\n",
       "      <td>62</td>\n",
       "      <td>2021</td>\n",
       "      <td>7</td>\n",
       "      <td>4</td>\n",
       "    </tr>\n",
       "  </tbody>\n",
       "</table>\n",
       "<p>61 rows × 4 columns</p>\n",
       "</div>"
      ],
      "text/plain": [
       "            score   year  month  day\n",
       "week                                \n",
       "2016-07-31    102   8064     28   82\n",
       "2016-08-31     96   8064     32   70\n",
       "2016-09-30    122   8064     36   58\n",
       "2016-10-31    142  10080     50   80\n",
       "2016-11-30    114   8064     44   66\n",
       "...           ...    ...    ...  ...\n",
       "2021-03-31    315   8084     12   70\n",
       "2021-04-30    315   8084     16   58\n",
       "2021-05-31    395  10105     25   80\n",
       "2021-06-30    315   8084     24   66\n",
       "2021-07-31     62   2021      7    4\n",
       "\n",
       "[61 rows x 4 columns]"
      ]
     },
     "execution_count": 64,
     "metadata": {},
     "output_type": "execute_result"
    }
   ],
   "source": [
    "monthly = new_df.resample('M').sum()\n",
    "monthly"
   ]
  },
  {
   "cell_type": "code",
   "execution_count": 17,
   "id": "70dc4695",
   "metadata": {},
   "outputs": [],
   "source": [
    "start_date = datetime(2016,7,31)\n",
    "end_date = datetime(2021,7,31)"
   ]
  },
  {
   "cell_type": "markdown",
   "id": "d46a3c7e",
   "metadata": {},
   "source": [
    "#### Plot the monthly score"
   ]
  },
  {
   "cell_type": "code",
   "execution_count": 18,
   "id": "62155d44",
   "metadata": {},
   "outputs": [
    {
     "data": {
      "image/png": "[encoded data removed]",
      "text/plain": [
       "<Figure size 1152x576 with 1 Axes>"
      ]
     },
     "metadata": {
      "needs_background": "light"
     },
     "output_type": "display_data"
    }
   ],
   "source": [
    "plt.figure(figsize=(16,8))\n",
    "\n",
    "plt.plot(monthly['score'], \"o-\", label = 'Score')\n",
    "\n",
    "plt.title('Search Score Monthly Time Series', fontsize=20)\n",
    "plt.xlabel(\"Time(Year)\", fontsize=16)\n",
    "plt.ylabel(\"Score\", fontsize=16)\n",
    "plt.legend(loc = 'best')\n",
    "\n",
    "for year in range(start_date.year,end_date.year+1):\n",
    "   plt.axvline(pd.to_datetime(str(year)+'-01-01'), color='k', linestyle='--', alpha=0.2)\n"
   ]
  },
  {
   "cell_type": "markdown",
   "id": "0625378a",
   "metadata": {},
   "source": [
    "We see some seasonal patterns in the time series and an upward trend till 2019 end which flattens after that. \n",
    "\n",
    "#### For simplicity, let us take a limited data from 1-1-2017 till 1-1-2020."
   ]
  },
  {
   "cell_type": "code",
   "execution_count": 19,
   "id": "58c3cf72",
   "metadata": {},
   "outputs": [
    {
     "data": {
      "text/plain": [
       "36"
      ]
     },
     "execution_count": 19,
     "metadata": {},
     "output_type": "execute_result"
    }
   ],
   "source": [
    "#lim_data = new_df['2016-07-10': '2017-06-18']\n",
    "\n",
    "start_date = datetime(2017,1,1)\n",
    "end_date = datetime(2020,1,1)\n",
    "\n",
    "lim_data = monthly[start_date:end_date]\n",
    "len(lim_data)"
   ]
  },
  {
   "cell_type": "code",
   "execution_count": 20,
   "id": "91b5e1d0",
   "metadata": {},
   "outputs": [
    {
     "data": {
      "text/html": [
       "<div>\n",
       "<style scoped>\n",
       "    .dataframe tbody tr th:only-of-type {\n",
       "        vertical-align: middle;\n",
       "    }\n",
       "\n",
       "    .dataframe tbody tr th {\n",
       "        vertical-align: top;\n",
       "    }\n",
       "\n",
       "    .dataframe thead th {\n",
       "        text-align: right;\n",
       "    }\n",
       "</style>\n",
       "<table border=\"1\" class=\"dataframe\">\n",
       "  <thead>\n",
       "    <tr style=\"text-align: right;\">\n",
       "      <th></th>\n",
       "      <th>score</th>\n",
       "      <th>year</th>\n",
       "      <th>month</th>\n",
       "      <th>day</th>\n",
       "    </tr>\n",
       "    <tr>\n",
       "      <th>week</th>\n",
       "      <th></th>\n",
       "      <th></th>\n",
       "      <th></th>\n",
       "      <th></th>\n",
       "    </tr>\n",
       "  </thead>\n",
       "  <tbody>\n",
       "    <tr>\n",
       "      <th>2017-01-31</th>\n",
       "      <td>160</td>\n",
       "      <td>10085</td>\n",
       "      <td>5</td>\n",
       "      <td>75</td>\n",
       "    </tr>\n",
       "    <tr>\n",
       "      <th>2017-02-28</th>\n",
       "      <td>134</td>\n",
       "      <td>8068</td>\n",
       "      <td>8</td>\n",
       "      <td>62</td>\n",
       "    </tr>\n",
       "    <tr>\n",
       "      <th>2017-03-31</th>\n",
       "      <td>157</td>\n",
       "      <td>8068</td>\n",
       "      <td>12</td>\n",
       "      <td>62</td>\n",
       "    </tr>\n",
       "    <tr>\n",
       "      <th>2017-04-30</th>\n",
       "      <td>168</td>\n",
       "      <td>10085</td>\n",
       "      <td>20</td>\n",
       "      <td>80</td>\n",
       "    </tr>\n",
       "    <tr>\n",
       "      <th>2017-05-31</th>\n",
       "      <td>130</td>\n",
       "      <td>8068</td>\n",
       "      <td>20</td>\n",
       "      <td>70</td>\n",
       "    </tr>\n",
       "    <tr>\n",
       "      <th>2017-06-30</th>\n",
       "      <td>124</td>\n",
       "      <td>8068</td>\n",
       "      <td>24</td>\n",
       "      <td>58</td>\n",
       "    </tr>\n",
       "    <tr>\n",
       "      <th>2017-07-31</th>\n",
       "      <td>207</td>\n",
       "      <td>10085</td>\n",
       "      <td>35</td>\n",
       "      <td>80</td>\n",
       "    </tr>\n",
       "    <tr>\n",
       "      <th>2017-08-31</th>\n",
       "      <td>158</td>\n",
       "      <td>8068</td>\n",
       "      <td>32</td>\n",
       "      <td>66</td>\n",
       "    </tr>\n",
       "    <tr>\n",
       "      <th>2017-09-30</th>\n",
       "      <td>170</td>\n",
       "      <td>8068</td>\n",
       "      <td>36</td>\n",
       "      <td>54</td>\n",
       "    </tr>\n",
       "    <tr>\n",
       "      <th>2017-10-31</th>\n",
       "      <td>216</td>\n",
       "      <td>10085</td>\n",
       "      <td>50</td>\n",
       "      <td>75</td>\n",
       "    </tr>\n",
       "    <tr>\n",
       "      <th>2017-11-30</th>\n",
       "      <td>186</td>\n",
       "      <td>8068</td>\n",
       "      <td>44</td>\n",
       "      <td>62</td>\n",
       "    </tr>\n",
       "    <tr>\n",
       "      <th>2017-12-31</th>\n",
       "      <td>203</td>\n",
       "      <td>10085</td>\n",
       "      <td>60</td>\n",
       "      <td>85</td>\n",
       "    </tr>\n",
       "    <tr>\n",
       "      <th>2018-01-31</th>\n",
       "      <td>201</td>\n",
       "      <td>8072</td>\n",
       "      <td>4</td>\n",
       "      <td>70</td>\n",
       "    </tr>\n",
       "    <tr>\n",
       "      <th>2018-02-28</th>\n",
       "      <td>183</td>\n",
       "      <td>8072</td>\n",
       "      <td>8</td>\n",
       "      <td>58</td>\n",
       "    </tr>\n",
       "    <tr>\n",
       "      <th>2018-03-31</th>\n",
       "      <td>191</td>\n",
       "      <td>8072</td>\n",
       "      <td>12</td>\n",
       "      <td>58</td>\n",
       "    </tr>\n",
       "    <tr>\n",
       "      <th>2018-04-30</th>\n",
       "      <td>250</td>\n",
       "      <td>10090</td>\n",
       "      <td>20</td>\n",
       "      <td>75</td>\n",
       "    </tr>\n",
       "    <tr>\n",
       "      <th>2018-05-31</th>\n",
       "      <td>206</td>\n",
       "      <td>8072</td>\n",
       "      <td>20</td>\n",
       "      <td>66</td>\n",
       "    </tr>\n",
       "    <tr>\n",
       "      <th>2018-06-30</th>\n",
       "      <td>217</td>\n",
       "      <td>8072</td>\n",
       "      <td>24</td>\n",
       "      <td>54</td>\n",
       "    </tr>\n",
       "    <tr>\n",
       "      <th>2018-07-31</th>\n",
       "      <td>278</td>\n",
       "      <td>10090</td>\n",
       "      <td>35</td>\n",
       "      <td>75</td>\n",
       "    </tr>\n",
       "    <tr>\n",
       "      <th>2018-08-31</th>\n",
       "      <td>241</td>\n",
       "      <td>8072</td>\n",
       "      <td>32</td>\n",
       "      <td>62</td>\n",
       "    </tr>\n",
       "    <tr>\n",
       "      <th>2018-09-30</th>\n",
       "      <td>293</td>\n",
       "      <td>10090</td>\n",
       "      <td>45</td>\n",
       "      <td>80</td>\n",
       "    </tr>\n",
       "    <tr>\n",
       "      <th>2018-10-31</th>\n",
       "      <td>223</td>\n",
       "      <td>8072</td>\n",
       "      <td>40</td>\n",
       "      <td>70</td>\n",
       "    </tr>\n",
       "    <tr>\n",
       "      <th>2018-11-30</th>\n",
       "      <td>223</td>\n",
       "      <td>8072</td>\n",
       "      <td>44</td>\n",
       "      <td>58</td>\n",
       "    </tr>\n",
       "    <tr>\n",
       "      <th>2018-12-31</th>\n",
       "      <td>254</td>\n",
       "      <td>10090</td>\n",
       "      <td>60</td>\n",
       "      <td>80</td>\n",
       "    </tr>\n",
       "    <tr>\n",
       "      <th>2019-01-31</th>\n",
       "      <td>234</td>\n",
       "      <td>8076</td>\n",
       "      <td>4</td>\n",
       "      <td>66</td>\n",
       "    </tr>\n",
       "    <tr>\n",
       "      <th>2019-02-28</th>\n",
       "      <td>266</td>\n",
       "      <td>8076</td>\n",
       "      <td>8</td>\n",
       "      <td>54</td>\n",
       "    </tr>\n",
       "    <tr>\n",
       "      <th>2019-03-31</th>\n",
       "      <td>329</td>\n",
       "      <td>10095</td>\n",
       "      <td>15</td>\n",
       "      <td>85</td>\n",
       "    </tr>\n",
       "    <tr>\n",
       "      <th>2019-04-30</th>\n",
       "      <td>223</td>\n",
       "      <td>8076</td>\n",
       "      <td>16</td>\n",
       "      <td>70</td>\n",
       "    </tr>\n",
       "    <tr>\n",
       "      <th>2019-05-31</th>\n",
       "      <td>272</td>\n",
       "      <td>8076</td>\n",
       "      <td>20</td>\n",
       "      <td>62</td>\n",
       "    </tr>\n",
       "    <tr>\n",
       "      <th>2019-06-30</th>\n",
       "      <td>379</td>\n",
       "      <td>10095</td>\n",
       "      <td>30</td>\n",
       "      <td>80</td>\n",
       "    </tr>\n",
       "    <tr>\n",
       "      <th>2019-07-31</th>\n",
       "      <td>283</td>\n",
       "      <td>8076</td>\n",
       "      <td>28</td>\n",
       "      <td>70</td>\n",
       "    </tr>\n",
       "    <tr>\n",
       "      <th>2019-08-31</th>\n",
       "      <td>289</td>\n",
       "      <td>8076</td>\n",
       "      <td>32</td>\n",
       "      <td>58</td>\n",
       "    </tr>\n",
       "    <tr>\n",
       "      <th>2019-09-30</th>\n",
       "      <td>423</td>\n",
       "      <td>10095</td>\n",
       "      <td>45</td>\n",
       "      <td>75</td>\n",
       "    </tr>\n",
       "    <tr>\n",
       "      <th>2019-10-31</th>\n",
       "      <td>302</td>\n",
       "      <td>8076</td>\n",
       "      <td>40</td>\n",
       "      <td>66</td>\n",
       "    </tr>\n",
       "    <tr>\n",
       "      <th>2019-11-30</th>\n",
       "      <td>319</td>\n",
       "      <td>8076</td>\n",
       "      <td>44</td>\n",
       "      <td>54</td>\n",
       "    </tr>\n",
       "    <tr>\n",
       "      <th>2019-12-31</th>\n",
       "      <td>353</td>\n",
       "      <td>10095</td>\n",
       "      <td>60</td>\n",
       "      <td>75</td>\n",
       "    </tr>\n",
       "  </tbody>\n",
       "</table>\n",
       "</div>"
      ],
      "text/plain": [
       "            score   year  month  day\n",
       "week                                \n",
       "2017-01-31    160  10085      5   75\n",
       "2017-02-28    134   8068      8   62\n",
       "2017-03-31    157   8068     12   62\n",
       "2017-04-30    168  10085     20   80\n",
       "2017-05-31    130   8068     20   70\n",
       "2017-06-30    124   8068     24   58\n",
       "2017-07-31    207  10085     35   80\n",
       "2017-08-31    158   8068     32   66\n",
       "2017-09-30    170   8068     36   54\n",
       "2017-10-31    216  10085     50   75\n",
       "2017-11-30    186   8068     44   62\n",
       "2017-12-31    203  10085     60   85\n",
       "2018-01-31    201   8072      4   70\n",
       "2018-02-28    183   8072      8   58\n",
       "2018-03-31    191   8072     12   58\n",
       "2018-04-30    250  10090     20   75\n",
       "2018-05-31    206   8072     20   66\n",
       "2018-06-30    217   8072     24   54\n",
       "2018-07-31    278  10090     35   75\n",
       "2018-08-31    241   8072     32   62\n",
       "2018-09-30    293  10090     45   80\n",
       "2018-10-31    223   8072     40   70\n",
       "2018-11-30    223   8072     44   58\n",
       "2018-12-31    254  10090     60   80\n",
       "2019-01-31    234   8076      4   66\n",
       "2019-02-28    266   8076      8   54\n",
       "2019-03-31    329  10095     15   85\n",
       "2019-04-30    223   8076     16   70\n",
       "2019-05-31    272   8076     20   62\n",
       "2019-06-30    379  10095     30   80\n",
       "2019-07-31    283   8076     28   70\n",
       "2019-08-31    289   8076     32   58\n",
       "2019-09-30    423  10095     45   75\n",
       "2019-10-31    302   8076     40   66\n",
       "2019-11-30    319   8076     44   54\n",
       "2019-12-31    353  10095     60   75"
      ]
     },
     "execution_count": 20,
     "metadata": {},
     "output_type": "execute_result"
    }
   ],
   "source": [
    "lim_data"
   ]
  },
  {
   "cell_type": "code",
   "execution_count": 21,
   "id": "ab980401",
   "metadata": {},
   "outputs": [
    {
     "data": {
      "image/png": "[encoded data removed]",
      "text/plain": [
       "<Figure size 1152x576 with 1 Axes>"
      ]
     },
     "metadata": {
      "needs_background": "light"
     },
     "output_type": "display_data"
    }
   ],
   "source": [
    "plt.figure(figsize=(16,8))\n",
    "\n",
    "plt.plot(lim_data['score'], \"o-\", label = 'Score')\n",
    "\n",
    "plt.title('Monthly Search Score Time Series', fontsize=20)\n",
    "plt.xlabel(\"Time\", fontsize=16)\n",
    "plt.ylabel(\"Score\", fontsize=16)\n",
    "plt.legend(loc = 'best')\n",
    "\n",
    "for year in range(start_date.year,end_date.year+1):\n",
    "   plt.axvline(pd.to_datetime(str(year)+'-01-01'), color='k', linestyle='--', alpha=0.2)"
   ]
  },
  {
   "cell_type": "markdown",
   "id": "5d7ac610",
   "metadata": {},
   "source": [
    "Since we see an upward trend in the time series, it is not stationary.\n",
    "\n",
    "##### A time series is stationary if it satisfies the following three conditions.\n",
    "\n",
    "1. Mean of the series over time is constant\n",
    "2. Variance of the series over time is constant.\n",
    "3. No seasonality.\n",
    "\n",
    "##### Classic Time series modelling techniques like AR(Auto Regression), MA(Moving Average), ARMA (AR + MA) won't work if there is stationarity in the time series. \n",
    "\n",
    "We have to check for the stationarity of the series by\n",
    "1. Visually inspecting the plot as above.\n",
    "2. Advanced test methodologies like Dickey Fuller test as we do below.\n"
   ]
  },
  {
   "cell_type": "markdown",
   "id": "e2f7bb87",
   "metadata": {},
   "source": [
    "### 3.1 DF Test"
   ]
  },
  {
   "cell_type": "code",
   "execution_count": 22,
   "id": "244dead1",
   "metadata": {},
   "outputs": [],
   "source": [
    "# DF Test using statsmodels adfuller\n",
    "from statsmodels.tsa.stattools import adfuller\n",
    "\n",
    "def df_test(time_series):\n",
    "    \n",
    "    print('Results of Dickey-Fuller Test:')\n",
    "    dftest = adfuller(time_series, autolag = 'AIC')\n",
    "    dfoutput = pd.Series(dftest[0:4], index=['Test Statistic', 'p-value', '#Lags Used', 'Number of Observations Used'])\n",
    "    \n",
    "    for key, value in dftest[4].items():\n",
    "        dfoutput['Critical Value (%s)' %key] = value\n",
    "    \n",
    "    print (dfoutput)"
   ]
  },
  {
   "cell_type": "code",
   "execution_count": 23,
   "id": "3adb8d15",
   "metadata": {},
   "outputs": [
    {
     "name": "stdout",
     "output_type": "stream",
     "text": [
      "Results of Dickey-Fuller Test:\n",
      "Test Statistic                 -0.384395\n",
      "p-value                         0.912672\n",
      "#Lags Used                      2.000000\n",
      "Number of Observations Used    33.000000\n",
      "Critical Value (1%)            -3.646135\n",
      "Critical Value (5%)            -2.954127\n",
      "Critical Value (10%)           -2.615968\n",
      "dtype: float64\n"
     ]
    }
   ],
   "source": [
    "df_test(lim_data.score)"
   ]
  },
  {
   "cell_type": "markdown",
   "id": "8de7eca4",
   "metadata": {},
   "source": [
    "p-value is 0.91 which is significantly high than the expected ( <0.05). \n",
    "According to DF test, the null hypothesis is that the time series is not stationary. A high p-value supports the null hypothesis.\n",
    "\n",
    "##### So this proves our time series is not stationary.\n",
    "\n",
    "\n",
    "##### We have to make the time series stationary by first removing the trend.\n",
    "We can do this by differencing technique. This technique takes the difference between the value at a time step and it's value at previous time step.\n",
    "\n",
    "For example, first order differencing is subtracting value at time step (t) and value at time step (t-1).\n",
    "\n",
    "\n"
   ]
  },
  {
   "cell_type": "markdown",
   "id": "00542131",
   "metadata": {},
   "source": [
    "### 3.2 First order differencing"
   ]
  },
  {
   "cell_type": "code",
   "execution_count": 24,
   "id": "24b6eae7",
   "metadata": {},
   "outputs": [
    {
     "name": "stdout",
     "output_type": "stream",
     "text": [
      "[160, 134, 157, 168, 130, 124, 207, 158, 170, 216, 186, 203, 201, 183, 191, 250, 206, 217, 278, 241, 293, 223, 223, 254, 234, 266, 329, 223, 272, 379, 283, 289, 423, 302, 319, 353]\n"
     ]
    }
   ],
   "source": [
    "print(list(lim_data.score))"
   ]
  },
  {
   "cell_type": "code",
   "execution_count": 25,
   "id": "7f877c12",
   "metadata": {},
   "outputs": [
    {
     "name": "stdout",
     "output_type": "stream",
     "text": [
      "[-26.0, 23.0, 11.0, -38.0, -6.0, 83.0, -49.0, 12.0, 46.0, -30.0, 17.0, -2.0, -18.0, 8.0, 59.0, -44.0, 11.0, 61.0, -37.0, 52.0, -70.0, 0.0, 31.0, -20.0, 32.0, 63.0, -106.0, 49.0, 107.0, -96.0, 6.0, 134.0, -121.0, 17.0, 34.0]\n"
     ]
    }
   ],
   "source": [
    "first_diff = lim_data.score.diff()[1:]\n",
    "\n",
    "print(list(first_diff))"
   ]
  },
  {
   "cell_type": "markdown",
   "id": "f5d808ac",
   "metadata": {},
   "source": [
    "#### Plot the first difference"
   ]
  },
  {
   "cell_type": "code",
   "execution_count": 26,
   "id": "d64dc9ff",
   "metadata": {},
   "outputs": [
    {
     "name": "stderr",
     "output_type": "stream",
     "text": [
      "No handles with labels found to put in legend.\n"
     ]
    },
    {
     "data": {
      "text/plain": [
       "<matplotlib.lines.Line2D at 0x15b009e8518>"
      ]
     },
     "execution_count": 26,
     "metadata": {},
     "output_type": "execute_result"
    },
    {
     "data": {
      "image/png": "[encoded data removed]",
      "text/plain": [
       "<Figure size 1152x576 with 1 Axes>"
      ]
     },
     "metadata": {
      "needs_background": "light"
     },
     "output_type": "display_data"
    }
   ],
   "source": [
    "plt.figure(figsize=(16,8))\n",
    "\n",
    "plt.plot(first_diff)\n",
    "\n",
    "plt.title('First Diff Time Series')\n",
    "plt.xlabel(\"Time\")\n",
    "plt.ylabel(\"Score\")\n",
    "plt.legend(loc = 'best')\n",
    "\n",
    "for year in range(start_date.year,end_date.year+1):\n",
    "   plt.axvline(pd.to_datetime(str(year)+'-01-01'), color='k', linestyle='--', alpha=0.2)\n",
    "plt.axhline(0, color='k', linestyle='--', alpha=0.2)"
   ]
  },
  {
   "cell_type": "markdown",
   "id": "568f6fdf",
   "metadata": {},
   "source": [
    "The first differenced series looks to have constant mean and variance though the variance is not perfectly constant.<br>\n",
    "Let's try DF test on this data."
   ]
  },
  {
   "cell_type": "code",
   "execution_count": 27,
   "id": "f9e4f158",
   "metadata": {},
   "outputs": [
    {
     "name": "stdout",
     "output_type": "stream",
     "text": [
      "Results of Dickey-Fuller Test:\n",
      "Test Statistic                -1.294180e+01\n",
      "p-value                        3.521882e-24\n",
      "#Lags Used                     1.000000e+00\n",
      "Number of Observations Used    3.300000e+01\n",
      "Critical Value (1%)           -3.646135e+00\n",
      "Critical Value (5%)           -2.954127e+00\n",
      "Critical Value (10%)          -2.615968e+00\n",
      "dtype: float64\n"
     ]
    }
   ],
   "source": [
    "df_test(first_diff)"
   ]
  },
  {
   "cell_type": "markdown",
   "id": "0e3bb696",
   "metadata": {},
   "source": [
    "##### The p-value is significantly less value now indicating that the differenced time series is stationary."
   ]
  },
  {
   "cell_type": "code",
   "execution_count": null,
   "id": "8b30da60",
   "metadata": {},
   "outputs": [],
   "source": []
  },
  {
   "cell_type": "markdown",
   "id": "8eea8a28",
   "metadata": {},
   "source": [
    "##### Let us break both the original and first differenced time series in to trend, seasonality and residuals (noise component) and analyze."
   ]
  },
  {
   "cell_type": "code",
   "execution_count": 28,
   "id": "caecef4f",
   "metadata": {},
   "outputs": [
    {
     "data": {
      "image/png": "[encoded data removed]",
      "text/plain": [
       "<Figure size 432x288 with 4 Axes>"
      ]
     },
     "metadata": {
      "needs_background": "light"
     },
     "output_type": "display_data"
    }
   ],
   "source": [
    "import statsmodels.api as sm\n",
    "sm.tsa.seasonal_decompose(lim_data.score).plot()\n",
    "plt.show()"
   ]
  },
  {
   "cell_type": "markdown",
   "id": "59c0e9fb",
   "metadata": {},
   "source": [
    "We see the upward trend and a clear seasonality (repeating pattern) in the original time series. The residuals look normally distributed around zero which is fine."
   ]
  },
  {
   "cell_type": "code",
   "execution_count": 29,
   "id": "4d051e2c",
   "metadata": {},
   "outputs": [
    {
     "data": {
      "image/png": "[encoded data removed]",
      "text/plain": [
       "<Figure size 432x288 with 4 Axes>"
      ]
     },
     "metadata": {
      "needs_background": "light"
     },
     "output_type": "display_data"
    }
   ],
   "source": [
    "sm.tsa.seasonal_decompose(first_diff).plot()\n",
    "plt.show()"
   ]
  },
  {
   "cell_type": "markdown",
   "id": "709702c5",
   "metadata": {},
   "source": [
    "We see no trend (expected), but a clear seasonality (repeating pattern) in the \"first difference\" series. The residuals look normally distributed around zero which is fine."
   ]
  },
  {
   "cell_type": "markdown",
   "id": "8a57daed",
   "metadata": {},
   "source": [
    "Since we see both seasonality and trend in the original time series \n",
    "\n",
    "#### We will use SARIMA algorithm which stands for Seasonal ARIMA ( Seasonal Auto Regressive Integrated Moving Average )\n",
    "\n",
    "SARIMA is a variation of ARIMA ( which in turn is combination of AR and MA along with a I which stands for Integrated )\n",
    "\n",
    "\n",
    "It has Parameters - Non-seasonal (p,d,q) and Seasonal (P,D,Q,m).\n",
    "\n",
    "We can break SARIMA in to \n",
    "\n",
    "1. Seasonality - The algorithm takes in to consideration the seasonality of the time series via some parameters (P,D,Q,m).<br><br>\n",
    "\n",
    "2. AR - Auto Regressive - This forecasting method assumes that the value at any time step t can be calculated as a regression involving one or more previous time steps' values of the same time series (this is referred as Auto - i.e. previous values of it's own ).\n",
    "The number of these time steps is referred as AR lags (denoted by p parameter ).\n",
    "\n",
    "3. I - Integrated : Differencing is done for removing the trend and to achieve stationarity. The order of differencing is given by parameter d. In our case, d=1 as we do first difference.\n",
    "\n",
    "4. MA - Moving Average - This forecasting method assumes that the value at any time step t can be calculated as a regression involving the errors seen at that time step and previous time steps. The number of these time steps is referred as MA lags (denoted by q parameter ).\n",
    "\n",
    "The parameters (P,D,Q) are seasonal counterparts of p,q and d. \n",
    "m is the number of time steps in which there is a repetition of seasonality ( for example, 12 months if one time step is one month and seasonal pattern repeats in duration of one year ). P is the seasonal AR lag, Q is seasonal MA lag, D is seasonal difference order.\n",
    "\n",
    "From the time series and seasonality plots that we saw earlier, we can observe m = 12 ( One year ).\n",
    "\n",
    "For determining p and q, we need to plot PACF (Partial Auto Correlation Function ) and ACF ( Auto Correlation Function) respectively which we will do next.\n",
    "\n"
   ]
  },
  {
   "cell_type": "code",
   "execution_count": null,
   "id": "5b5cc5aa",
   "metadata": {},
   "outputs": [],
   "source": []
  },
  {
   "cell_type": "markdown",
   "id": "cdb8ebfc",
   "metadata": {},
   "source": [
    "### 3.3 ACF and PACF Analysis \n",
    "\n",
    "Plot ACF and PACF on first difference series"
   ]
  },
  {
   "cell_type": "markdown",
   "id": "5cf813b1",
   "metadata": {},
   "source": [
    "#### ACF"
   ]
  },
  {
   "cell_type": "code",
   "execution_count": 30,
   "id": "d3918ed1",
   "metadata": {},
   "outputs": [
    {
     "data": {
      "image/png": "[encoded data removed]",
      "text/plain": [
       "<Figure size 432x288 with 1 Axes>"
      ]
     },
     "metadata": {
      "needs_background": "light"
     },
     "output_type": "display_data"
    }
   ],
   "source": [
    "from statsmodels.tsa.stattools import acf, pacf\n",
    "from statsmodels.graphics.tsaplots import plot_acf, plot_pacf\n",
    "\n",
    "acf_plot = plot_acf(first_diff)"
   ]
  },
  {
   "cell_type": "markdown",
   "id": "0f2c2a37",
   "metadata": {},
   "source": [
    "Each stick in the plot corresponds to lags starting from 0 ( which has the maximum correlation of 1 as it is correlation of a time step value with itself ).\n",
    "\n",
    "From ACF it appears lags 1 (t-1) and 2 (t-2) are significant for MA (q parameter)."
   ]
  },
  {
   "cell_type": "markdown",
   "id": "8ff1b46f",
   "metadata": {},
   "source": [
    "#### PACF"
   ]
  },
  {
   "cell_type": "code",
   "execution_count": 31,
   "id": "5e401a73",
   "metadata": {},
   "outputs": [
    {
     "data": {
      "image/png": "[encoded data removed]",
      "text/plain": [
       "<Figure size 432x288 with 1 Axes>"
      ]
     },
     "metadata": {
      "needs_background": "light"
     },
     "output_type": "display_data"
    }
   ],
   "source": [
    "pacf_plot = plot_pacf(first_diff)"
   ]
  },
  {
   "cell_type": "markdown",
   "id": "7793153a",
   "metadata": {},
   "source": [
    "Each stick in the plot corresponds to lags starting from 0 ( which has the maximum correlation of 1 as it is correlation of a time step value with itself ).\n",
    "\n",
    "From PACF it appears lags 1 (t-1) and 2 (t-2) are significant for AR (p parameter). The next lag 10 is too far away, but indicates seasonal pattern."
   ]
  },
  {
   "cell_type": "markdown",
   "id": "8925d4ae",
   "metadata": {},
   "source": [
    "#### But, before we go further with advanced algorithm , let us build a base line model ( based on Holt Winters algorithm )"
   ]
  },
  {
   "cell_type": "markdown",
   "id": "1d5ee02c",
   "metadata": {},
   "source": [
    "### 3.4  Baseline Model - Holt Winters Algorithm \n",
    "The idea behind Holt's Winters method is to apply exponential smoothing to the seasonal components in addition to level and trend."
   ]
  },
  {
   "cell_type": "markdown",
   "id": "cbd40194",
   "metadata": {},
   "source": [
    "#### Split Train Test data"
   ]
  },
  {
   "cell_type": "code",
   "execution_count": 32,
   "id": "d432977e",
   "metadata": {},
   "outputs": [
    {
     "data": {
      "text/html": [
       "<div>\n",
       "<style scoped>\n",
       "    .dataframe tbody tr th:only-of-type {\n",
       "        vertical-align: middle;\n",
       "    }\n",
       "\n",
       "    .dataframe tbody tr th {\n",
       "        vertical-align: top;\n",
       "    }\n",
       "\n",
       "    .dataframe thead th {\n",
       "        text-align: right;\n",
       "    }\n",
       "</style>\n",
       "<table border=\"1\" class=\"dataframe\">\n",
       "  <thead>\n",
       "    <tr style=\"text-align: right;\">\n",
       "      <th></th>\n",
       "      <th>score</th>\n",
       "      <th>year</th>\n",
       "      <th>month</th>\n",
       "      <th>day</th>\n",
       "    </tr>\n",
       "    <tr>\n",
       "      <th>week</th>\n",
       "      <th></th>\n",
       "      <th></th>\n",
       "      <th></th>\n",
       "      <th></th>\n",
       "    </tr>\n",
       "  </thead>\n",
       "  <tbody>\n",
       "    <tr>\n",
       "      <th>2017-01-31</th>\n",
       "      <td>160</td>\n",
       "      <td>10085</td>\n",
       "      <td>5</td>\n",
       "      <td>75</td>\n",
       "    </tr>\n",
       "    <tr>\n",
       "      <th>2017-02-28</th>\n",
       "      <td>134</td>\n",
       "      <td>8068</td>\n",
       "      <td>8</td>\n",
       "      <td>62</td>\n",
       "    </tr>\n",
       "    <tr>\n",
       "      <th>2017-03-31</th>\n",
       "      <td>157</td>\n",
       "      <td>8068</td>\n",
       "      <td>12</td>\n",
       "      <td>62</td>\n",
       "    </tr>\n",
       "    <tr>\n",
       "      <th>2017-04-30</th>\n",
       "      <td>168</td>\n",
       "      <td>10085</td>\n",
       "      <td>20</td>\n",
       "      <td>80</td>\n",
       "    </tr>\n",
       "    <tr>\n",
       "      <th>2017-05-31</th>\n",
       "      <td>130</td>\n",
       "      <td>8068</td>\n",
       "      <td>20</td>\n",
       "      <td>70</td>\n",
       "    </tr>\n",
       "    <tr>\n",
       "      <th>2017-06-30</th>\n",
       "      <td>124</td>\n",
       "      <td>8068</td>\n",
       "      <td>24</td>\n",
       "      <td>58</td>\n",
       "    </tr>\n",
       "    <tr>\n",
       "      <th>2017-07-31</th>\n",
       "      <td>207</td>\n",
       "      <td>10085</td>\n",
       "      <td>35</td>\n",
       "      <td>80</td>\n",
       "    </tr>\n",
       "    <tr>\n",
       "      <th>2017-08-31</th>\n",
       "      <td>158</td>\n",
       "      <td>8068</td>\n",
       "      <td>32</td>\n",
       "      <td>66</td>\n",
       "    </tr>\n",
       "    <tr>\n",
       "      <th>2017-09-30</th>\n",
       "      <td>170</td>\n",
       "      <td>8068</td>\n",
       "      <td>36</td>\n",
       "      <td>54</td>\n",
       "    </tr>\n",
       "    <tr>\n",
       "      <th>2017-10-31</th>\n",
       "      <td>216</td>\n",
       "      <td>10085</td>\n",
       "      <td>50</td>\n",
       "      <td>75</td>\n",
       "    </tr>\n",
       "    <tr>\n",
       "      <th>2017-11-30</th>\n",
       "      <td>186</td>\n",
       "      <td>8068</td>\n",
       "      <td>44</td>\n",
       "      <td>62</td>\n",
       "    </tr>\n",
       "    <tr>\n",
       "      <th>2017-12-31</th>\n",
       "      <td>203</td>\n",
       "      <td>10085</td>\n",
       "      <td>60</td>\n",
       "      <td>85</td>\n",
       "    </tr>\n",
       "    <tr>\n",
       "      <th>2018-01-31</th>\n",
       "      <td>201</td>\n",
       "      <td>8072</td>\n",
       "      <td>4</td>\n",
       "      <td>70</td>\n",
       "    </tr>\n",
       "    <tr>\n",
       "      <th>2018-02-28</th>\n",
       "      <td>183</td>\n",
       "      <td>8072</td>\n",
       "      <td>8</td>\n",
       "      <td>58</td>\n",
       "    </tr>\n",
       "    <tr>\n",
       "      <th>2018-03-31</th>\n",
       "      <td>191</td>\n",
       "      <td>8072</td>\n",
       "      <td>12</td>\n",
       "      <td>58</td>\n",
       "    </tr>\n",
       "    <tr>\n",
       "      <th>2018-04-30</th>\n",
       "      <td>250</td>\n",
       "      <td>10090</td>\n",
       "      <td>20</td>\n",
       "      <td>75</td>\n",
       "    </tr>\n",
       "    <tr>\n",
       "      <th>2018-05-31</th>\n",
       "      <td>206</td>\n",
       "      <td>8072</td>\n",
       "      <td>20</td>\n",
       "      <td>66</td>\n",
       "    </tr>\n",
       "    <tr>\n",
       "      <th>2018-06-30</th>\n",
       "      <td>217</td>\n",
       "      <td>8072</td>\n",
       "      <td>24</td>\n",
       "      <td>54</td>\n",
       "    </tr>\n",
       "    <tr>\n",
       "      <th>2018-07-31</th>\n",
       "      <td>278</td>\n",
       "      <td>10090</td>\n",
       "      <td>35</td>\n",
       "      <td>75</td>\n",
       "    </tr>\n",
       "    <tr>\n",
       "      <th>2018-08-31</th>\n",
       "      <td>241</td>\n",
       "      <td>8072</td>\n",
       "      <td>32</td>\n",
       "      <td>62</td>\n",
       "    </tr>\n",
       "    <tr>\n",
       "      <th>2018-09-30</th>\n",
       "      <td>293</td>\n",
       "      <td>10090</td>\n",
       "      <td>45</td>\n",
       "      <td>80</td>\n",
       "    </tr>\n",
       "    <tr>\n",
       "      <th>2018-10-31</th>\n",
       "      <td>223</td>\n",
       "      <td>8072</td>\n",
       "      <td>40</td>\n",
       "      <td>70</td>\n",
       "    </tr>\n",
       "    <tr>\n",
       "      <th>2018-11-30</th>\n",
       "      <td>223</td>\n",
       "      <td>8072</td>\n",
       "      <td>44</td>\n",
       "      <td>58</td>\n",
       "    </tr>\n",
       "    <tr>\n",
       "      <th>2018-12-31</th>\n",
       "      <td>254</td>\n",
       "      <td>10090</td>\n",
       "      <td>60</td>\n",
       "      <td>80</td>\n",
       "    </tr>\n",
       "    <tr>\n",
       "      <th>2019-01-31</th>\n",
       "      <td>234</td>\n",
       "      <td>8076</td>\n",
       "      <td>4</td>\n",
       "      <td>66</td>\n",
       "    </tr>\n",
       "    <tr>\n",
       "      <th>2019-02-28</th>\n",
       "      <td>266</td>\n",
       "      <td>8076</td>\n",
       "      <td>8</td>\n",
       "      <td>54</td>\n",
       "    </tr>\n",
       "    <tr>\n",
       "      <th>2019-03-31</th>\n",
       "      <td>329</td>\n",
       "      <td>10095</td>\n",
       "      <td>15</td>\n",
       "      <td>85</td>\n",
       "    </tr>\n",
       "    <tr>\n",
       "      <th>2019-04-30</th>\n",
       "      <td>223</td>\n",
       "      <td>8076</td>\n",
       "      <td>16</td>\n",
       "      <td>70</td>\n",
       "    </tr>\n",
       "    <tr>\n",
       "      <th>2019-05-31</th>\n",
       "      <td>272</td>\n",
       "      <td>8076</td>\n",
       "      <td>20</td>\n",
       "      <td>62</td>\n",
       "    </tr>\n",
       "    <tr>\n",
       "      <th>2019-06-30</th>\n",
       "      <td>379</td>\n",
       "      <td>10095</td>\n",
       "      <td>30</td>\n",
       "      <td>80</td>\n",
       "    </tr>\n",
       "    <tr>\n",
       "      <th>2019-07-31</th>\n",
       "      <td>283</td>\n",
       "      <td>8076</td>\n",
       "      <td>28</td>\n",
       "      <td>70</td>\n",
       "    </tr>\n",
       "    <tr>\n",
       "      <th>2019-08-31</th>\n",
       "      <td>289</td>\n",
       "      <td>8076</td>\n",
       "      <td>32</td>\n",
       "      <td>58</td>\n",
       "    </tr>\n",
       "    <tr>\n",
       "      <th>2019-09-30</th>\n",
       "      <td>423</td>\n",
       "      <td>10095</td>\n",
       "      <td>45</td>\n",
       "      <td>75</td>\n",
       "    </tr>\n",
       "    <tr>\n",
       "      <th>2019-10-31</th>\n",
       "      <td>302</td>\n",
       "      <td>8076</td>\n",
       "      <td>40</td>\n",
       "      <td>66</td>\n",
       "    </tr>\n",
       "    <tr>\n",
       "      <th>2019-11-30</th>\n",
       "      <td>319</td>\n",
       "      <td>8076</td>\n",
       "      <td>44</td>\n",
       "      <td>54</td>\n",
       "    </tr>\n",
       "    <tr>\n",
       "      <th>2019-12-31</th>\n",
       "      <td>353</td>\n",
       "      <td>10095</td>\n",
       "      <td>60</td>\n",
       "      <td>75</td>\n",
       "    </tr>\n",
       "  </tbody>\n",
       "</table>\n",
       "</div>"
      ],
      "text/plain": [
       "            score   year  month  day\n",
       "week                                \n",
       "2017-01-31    160  10085      5   75\n",
       "2017-02-28    134   8068      8   62\n",
       "2017-03-31    157   8068     12   62\n",
       "2017-04-30    168  10085     20   80\n",
       "2017-05-31    130   8068     20   70\n",
       "2017-06-30    124   8068     24   58\n",
       "2017-07-31    207  10085     35   80\n",
       "2017-08-31    158   8068     32   66\n",
       "2017-09-30    170   8068     36   54\n",
       "2017-10-31    216  10085     50   75\n",
       "2017-11-30    186   8068     44   62\n",
       "2017-12-31    203  10085     60   85\n",
       "2018-01-31    201   8072      4   70\n",
       "2018-02-28    183   8072      8   58\n",
       "2018-03-31    191   8072     12   58\n",
       "2018-04-30    250  10090     20   75\n",
       "2018-05-31    206   8072     20   66\n",
       "2018-06-30    217   8072     24   54\n",
       "2018-07-31    278  10090     35   75\n",
       "2018-08-31    241   8072     32   62\n",
       "2018-09-30    293  10090     45   80\n",
       "2018-10-31    223   8072     40   70\n",
       "2018-11-30    223   8072     44   58\n",
       "2018-12-31    254  10090     60   80\n",
       "2019-01-31    234   8076      4   66\n",
       "2019-02-28    266   8076      8   54\n",
       "2019-03-31    329  10095     15   85\n",
       "2019-04-30    223   8076     16   70\n",
       "2019-05-31    272   8076     20   62\n",
       "2019-06-30    379  10095     30   80\n",
       "2019-07-31    283   8076     28   70\n",
       "2019-08-31    289   8076     32   58\n",
       "2019-09-30    423  10095     45   75\n",
       "2019-10-31    302   8076     40   66\n",
       "2019-11-30    319   8076     44   54\n",
       "2019-12-31    353  10095     60   75"
      ]
     },
     "execution_count": 32,
     "metadata": {},
     "output_type": "execute_result"
    }
   ],
   "source": [
    "lim_data"
   ]
  },
  {
   "cell_type": "code",
   "execution_count": 33,
   "id": "04e59e06",
   "metadata": {},
   "outputs": [],
   "source": [
    "from datetime import timedelta\n",
    "\n",
    "train_end = datetime(2019,6,30)\n",
    "test_end = datetime(2019,12,31)\n",
    "\n",
    "train_data = lim_data[:train_end]\n",
    "test_data = lim_data[train_end + timedelta(days=1):test_end]"
   ]
  },
  {
   "cell_type": "code",
   "execution_count": 34,
   "id": "7cfb1305",
   "metadata": {},
   "outputs": [
    {
     "data": {
      "text/html": [
       "<div>\n",
       "<style scoped>\n",
       "    .dataframe tbody tr th:only-of-type {\n",
       "        vertical-align: middle;\n",
       "    }\n",
       "\n",
       "    .dataframe tbody tr th {\n",
       "        vertical-align: top;\n",
       "    }\n",
       "\n",
       "    .dataframe thead th {\n",
       "        text-align: right;\n",
       "    }\n",
       "</style>\n",
       "<table border=\"1\" class=\"dataframe\">\n",
       "  <thead>\n",
       "    <tr style=\"text-align: right;\">\n",
       "      <th></th>\n",
       "      <th>score</th>\n",
       "      <th>year</th>\n",
       "      <th>month</th>\n",
       "      <th>day</th>\n",
       "    </tr>\n",
       "    <tr>\n",
       "      <th>week</th>\n",
       "      <th></th>\n",
       "      <th></th>\n",
       "      <th></th>\n",
       "      <th></th>\n",
       "    </tr>\n",
       "  </thead>\n",
       "  <tbody>\n",
       "    <tr>\n",
       "      <th>2019-02-28</th>\n",
       "      <td>266</td>\n",
       "      <td>8076</td>\n",
       "      <td>8</td>\n",
       "      <td>54</td>\n",
       "    </tr>\n",
       "    <tr>\n",
       "      <th>2019-03-31</th>\n",
       "      <td>329</td>\n",
       "      <td>10095</td>\n",
       "      <td>15</td>\n",
       "      <td>85</td>\n",
       "    </tr>\n",
       "    <tr>\n",
       "      <th>2019-04-30</th>\n",
       "      <td>223</td>\n",
       "      <td>8076</td>\n",
       "      <td>16</td>\n",
       "      <td>70</td>\n",
       "    </tr>\n",
       "    <tr>\n",
       "      <th>2019-05-31</th>\n",
       "      <td>272</td>\n",
       "      <td>8076</td>\n",
       "      <td>20</td>\n",
       "      <td>62</td>\n",
       "    </tr>\n",
       "    <tr>\n",
       "      <th>2019-06-30</th>\n",
       "      <td>379</td>\n",
       "      <td>10095</td>\n",
       "      <td>30</td>\n",
       "      <td>80</td>\n",
       "    </tr>\n",
       "  </tbody>\n",
       "</table>\n",
       "</div>"
      ],
      "text/plain": [
       "            score   year  month  day\n",
       "week                                \n",
       "2019-02-28    266   8076      8   54\n",
       "2019-03-31    329  10095     15   85\n",
       "2019-04-30    223   8076     16   70\n",
       "2019-05-31    272   8076     20   62\n",
       "2019-06-30    379  10095     30   80"
      ]
     },
     "execution_count": 34,
     "metadata": {},
     "output_type": "execute_result"
    }
   ],
   "source": [
    "train_data.tail(5)"
   ]
  },
  {
   "cell_type": "code",
   "execution_count": 35,
   "id": "277684b3",
   "metadata": {},
   "outputs": [
    {
     "data": {
      "text/html": [
       "<div>\n",
       "<style scoped>\n",
       "    .dataframe tbody tr th:only-of-type {\n",
       "        vertical-align: middle;\n",
       "    }\n",
       "\n",
       "    .dataframe tbody tr th {\n",
       "        vertical-align: top;\n",
       "    }\n",
       "\n",
       "    .dataframe thead th {\n",
       "        text-align: right;\n",
       "    }\n",
       "</style>\n",
       "<table border=\"1\" class=\"dataframe\">\n",
       "  <thead>\n",
       "    <tr style=\"text-align: right;\">\n",
       "      <th></th>\n",
       "      <th>score</th>\n",
       "      <th>year</th>\n",
       "      <th>month</th>\n",
       "      <th>day</th>\n",
       "    </tr>\n",
       "    <tr>\n",
       "      <th>week</th>\n",
       "      <th></th>\n",
       "      <th></th>\n",
       "      <th></th>\n",
       "      <th></th>\n",
       "    </tr>\n",
       "  </thead>\n",
       "  <tbody>\n",
       "    <tr>\n",
       "      <th>2019-07-31</th>\n",
       "      <td>283</td>\n",
       "      <td>8076</td>\n",
       "      <td>28</td>\n",
       "      <td>70</td>\n",
       "    </tr>\n",
       "    <tr>\n",
       "      <th>2019-08-31</th>\n",
       "      <td>289</td>\n",
       "      <td>8076</td>\n",
       "      <td>32</td>\n",
       "      <td>58</td>\n",
       "    </tr>\n",
       "    <tr>\n",
       "      <th>2019-09-30</th>\n",
       "      <td>423</td>\n",
       "      <td>10095</td>\n",
       "      <td>45</td>\n",
       "      <td>75</td>\n",
       "    </tr>\n",
       "    <tr>\n",
       "      <th>2019-10-31</th>\n",
       "      <td>302</td>\n",
       "      <td>8076</td>\n",
       "      <td>40</td>\n",
       "      <td>66</td>\n",
       "    </tr>\n",
       "    <tr>\n",
       "      <th>2019-11-30</th>\n",
       "      <td>319</td>\n",
       "      <td>8076</td>\n",
       "      <td>44</td>\n",
       "      <td>54</td>\n",
       "    </tr>\n",
       "    <tr>\n",
       "      <th>2019-12-31</th>\n",
       "      <td>353</td>\n",
       "      <td>10095</td>\n",
       "      <td>60</td>\n",
       "      <td>75</td>\n",
       "    </tr>\n",
       "  </tbody>\n",
       "</table>\n",
       "</div>"
      ],
      "text/plain": [
       "            score   year  month  day\n",
       "week                                \n",
       "2019-07-31    283   8076     28   70\n",
       "2019-08-31    289   8076     32   58\n",
       "2019-09-30    423  10095     45   75\n",
       "2019-10-31    302   8076     40   66\n",
       "2019-11-30    319   8076     44   54\n",
       "2019-12-31    353  10095     60   75"
      ]
     },
     "execution_count": 35,
     "metadata": {},
     "output_type": "execute_result"
    }
   ],
   "source": [
    "test_data"
   ]
  },
  {
   "cell_type": "markdown",
   "id": "be111400",
   "metadata": {},
   "source": [
    "##### Build Holt Winters model and forecast test data"
   ]
  },
  {
   "cell_type": "code",
   "execution_count": 36,
   "id": "40af9f0f",
   "metadata": {},
   "outputs": [
    {
     "data": {
      "image/png": "[encoded data removed]",
      "text/plain": [
       "<Figure size 1152x576 with 1 Axes>"
      ]
     },
     "metadata": {
      "needs_background": "light"
     },
     "output_type": "display_data"
    }
   ],
   "source": [
    "from statsmodels.tsa.api import ExponentialSmoothing\n",
    "\n",
    "\n",
    "holt_winter = ExponentialSmoothing(np.asarray(train_data['score']), seasonal_periods=12, trend='add', seasonal='add')\n",
    "\n",
    "hw_fit = holt_winter.fit()\n",
    "\n",
    "hw_forecast = hw_fit.forecast(len(test_data))\n",
    "\n",
    "plt.figure(figsize=(16,8))\n",
    "\n",
    "plt.plot(train_data.index, train_data['score'], \"b.-\", label='Train Data')\n",
    "plt.plot(test_data.index, test_data['score'], \"ro-\", label='Original Test Data')\n",
    "plt.plot(test_data.index, hw_forecast, \"gx-\", label='Holt_Winter Forecast Data')\n",
    "plt.ylabel('Score', fontsize=16)\n",
    "plt.xlabel('Time', fontsize=16)\n",
    "plt.legend(loc='best')\n",
    "plt.title('Holt Winters Forecast', fontsize=20)\n",
    "plt.show()"
   ]
  },
  {
   "cell_type": "code",
   "execution_count": 37,
   "id": "7b7ecb0a",
   "metadata": {},
   "outputs": [
    {
     "data": {
      "text/plain": [
       "[343.9421124051718,\n",
       " 300.9036219181998,\n",
       " 332.8815244618489,\n",
       " 320.8416381453372,\n",
       " 305.8270938947398,\n",
       " 329.7901504976596]"
      ]
     },
     "execution_count": 37,
     "metadata": {},
     "output_type": "execute_result"
    }
   ],
   "source": [
    "list(hw_forecast)"
   ]
  },
  {
   "cell_type": "code",
   "execution_count": 38,
   "id": "956c5e64",
   "metadata": {},
   "outputs": [
    {
     "data": {
      "text/plain": [
       "week\n",
       "2019-07-31    283\n",
       "2019-08-31    289\n",
       "2019-09-30    423\n",
       "2019-10-31    302\n",
       "2019-11-30    319\n",
       "2019-12-31    353\n",
       "Freq: M, Name: score, dtype: int32"
      ]
     },
     "execution_count": 38,
     "metadata": {},
     "output_type": "execute_result"
    }
   ],
   "source": [
    "test_data['score']"
   ]
  },
  {
   "cell_type": "code",
   "execution_count": 39,
   "id": "076fd967",
   "metadata": {},
   "outputs": [],
   "source": [
    "hw_residuals = test_data['score'] - hw_forecast"
   ]
  },
  {
   "cell_type": "code",
   "execution_count": 40,
   "id": "a5328954",
   "metadata": {},
   "outputs": [
    {
     "name": "stdout",
     "output_type": "stream",
     "text": [
      "Mean Absolute Percent Error: 0.11\n"
     ]
    }
   ],
   "source": [
    "print('Mean Absolute Percent Error:', round(np.mean(abs(hw_residuals/test_data.score)),2))"
   ]
  },
  {
   "cell_type": "markdown",
   "id": "d9db8feb",
   "metadata": {},
   "source": [
    "###### MAPE of Holt Winters Model is 11%"
   ]
  },
  {
   "cell_type": "code",
   "execution_count": 41,
   "id": "f8d3c51c",
   "metadata": {},
   "outputs": [
    {
     "name": "stdout",
     "output_type": "stream",
     "text": [
      "Root Mean Squared Error: 46.62654252975711\n"
     ]
    }
   ],
   "source": [
    "print('Root Mean Squared Error:', np.sqrt(np.mean(hw_residuals**2)))"
   ]
  },
  {
   "cell_type": "markdown",
   "id": "a1233ace",
   "metadata": {},
   "source": [
    "Let us proceed to build an advanced model based on SARIMA algorithm"
   ]
  },
  {
   "cell_type": "markdown",
   "id": "48b3e24d",
   "metadata": {},
   "source": [
    "### 3.5  Finding the optimum parameters for SARIMA - p,q and P,Q"
   ]
  },
  {
   "cell_type": "markdown",
   "id": "87d9a556",
   "metadata": {},
   "source": [
    "#### AUTO ARIMA to find optimum p,q and P,Q\n",
    "\n",
    "We set d=1 (first difference) and D also as 1.\n",
    "\n",
    "As a general rule, set the model parameters such that D never exceeds one. And the total differencing ‘d + D’ never exceeds 2. Try to keep only either SAR or SMA terms if your model has seasonal components.\n",
    "\n",
    "https://www.machinelearningplus.com/time-series/arima-model-time-series-forecasting-python/"
   ]
  },
  {
   "cell_type": "code",
   "execution_count": 42,
   "id": "7b5a9a26",
   "metadata": {},
   "outputs": [
    {
     "name": "stdout",
     "output_type": "stream",
     "text": [
      "Performing stepwise search to minimize aic\n",
      " ARIMA(0,1,0)(1,1,1)[12]             : AIC=195.482, Time=0.10 sec\n",
      " ARIMA(0,1,0)(0,1,0)[12]             : AIC=191.890, Time=0.01 sec\n",
      " ARIMA(1,1,0)(1,1,0)[12]             : AIC=193.633, Time=0.06 sec\n",
      " ARIMA(0,1,1)(0,1,1)[12]             : AIC=inf, Time=0.12 sec\n",
      " ARIMA(0,1,0)(1,1,0)[12]             : AIC=193.483, Time=0.04 sec\n",
      " ARIMA(0,1,0)(0,1,1)[12]             : AIC=193.482, Time=0.04 sec\n",
      " ARIMA(1,1,0)(0,1,0)[12]             : AIC=191.819, Time=0.02 sec\n",
      " ARIMA(1,1,0)(0,1,1)[12]             : AIC=193.632, Time=0.06 sec\n",
      " ARIMA(1,1,0)(1,1,1)[12]             : AIC=195.630, Time=0.29 sec\n",
      " ARIMA(2,1,0)(0,1,0)[12]             : AIC=184.849, Time=0.04 sec\n",
      " ARIMA(2,1,0)(1,1,0)[12]             : AIC=186.530, Time=0.12 sec\n",
      " ARIMA(2,1,0)(0,1,1)[12]             : AIC=186.531, Time=0.13 sec\n",
      " ARIMA(2,1,0)(1,1,1)[12]             : AIC=188.530, Time=0.18 sec\n",
      " ARIMA(3,1,0)(0,1,0)[12]             : AIC=186.843, Time=0.05 sec\n",
      " ARIMA(2,1,1)(0,1,0)[12]             : AIC=186.838, Time=0.05 sec\n",
      " ARIMA(1,1,1)(0,1,0)[12]             : AIC=inf, Time=0.03 sec\n",
      " ARIMA(3,1,1)(0,1,0)[12]             : AIC=inf, Time=0.09 sec\n",
      " ARIMA(2,1,0)(0,1,0)[12] intercept   : AIC=186.583, Time=0.06 sec\n",
      "\n",
      "Best model:  ARIMA(2,1,0)(0,1,0)[12]          \n",
      "Total fit time: 1.480 seconds\n"
     ]
    },
    {
     "data": {
      "text/html": [
       "<table class=\"simpletable\">\n",
       "<caption>SARIMAX Results</caption>\n",
       "<tr>\n",
       "  <th>Dep. Variable:</th>                  <td>y</td>               <th>  No. Observations:  </th>   <td>30</td>   \n",
       "</tr>\n",
       "<tr>\n",
       "  <th>Model:</th>           <td>SARIMAX(2, 1, 0)x(0, 1, 0, 12)</td> <th>  Log Likelihood     </th> <td>-89.425</td>\n",
       "</tr>\n",
       "<tr>\n",
       "  <th>Date:</th>                   <td>Sat, 17 Jul 2021</td>        <th>  AIC                </th> <td>184.849</td>\n",
       "</tr>\n",
       "<tr>\n",
       "  <th>Time:</th>                       <td>19:48:26</td>            <th>  BIC                </th> <td>187.349</td>\n",
       "</tr>\n",
       "<tr>\n",
       "  <th>Sample:</th>                         <td>0</td>               <th>  HQIC               </th> <td>185.098</td>\n",
       "</tr>\n",
       "<tr>\n",
       "  <th></th>                              <td> - 30</td>             <th>                     </th>    <td> </td>   \n",
       "</tr>\n",
       "<tr>\n",
       "  <th>Covariance Type:</th>               <td>opg</td>              <th>                     </th>    <td> </td>   \n",
       "</tr>\n",
       "</table>\n",
       "<table class=\"simpletable\">\n",
       "<tr>\n",
       "     <td></td>       <th>coef</th>     <th>std err</th>      <th>z</th>      <th>P>|z|</th>  <th>[0.025</th>    <th>0.975]</th>  \n",
       "</tr>\n",
       "<tr>\n",
       "  <th>ar.L1</th>  <td>   -0.7468</td> <td>    0.247</td> <td>   -3.023</td> <td> 0.003</td> <td>   -1.231</td> <td>   -0.263</td>\n",
       "</tr>\n",
       "<tr>\n",
       "  <th>ar.L2</th>  <td>   -0.7369</td> <td>    0.201</td> <td>   -3.668</td> <td> 0.000</td> <td>   -1.131</td> <td>   -0.343</td>\n",
       "</tr>\n",
       "<tr>\n",
       "  <th>sigma2</th> <td> 1959.1808</td> <td>  961.963</td> <td>    2.037</td> <td> 0.042</td> <td>   73.769</td> <td> 3844.593</td>\n",
       "</tr>\n",
       "</table>\n",
       "<table class=\"simpletable\">\n",
       "<tr>\n",
       "  <th>Ljung-Box (L1) (Q):</th>     <td>0.09</td> <th>  Jarque-Bera (JB):  </th> <td>1.07</td> \n",
       "</tr>\n",
       "<tr>\n",
       "  <th>Prob(Q):</th>                <td>0.77</td> <th>  Prob(JB):          </th> <td>0.58</td> \n",
       "</tr>\n",
       "<tr>\n",
       "  <th>Heteroskedasticity (H):</th> <td>3.85</td> <th>  Skew:              </th> <td>-0.59</td>\n",
       "</tr>\n",
       "<tr>\n",
       "  <th>Prob(H) (two-sided):</th>    <td>0.13</td> <th>  Kurtosis:          </th> <td>2.67</td> \n",
       "</tr>\n",
       "</table><br/><br/>Warnings:<br/>[1] Covariance matrix calculated using the outer product of gradients (complex-step)."
      ],
      "text/plain": [
       "<class 'statsmodels.iolib.summary.Summary'>\n",
       "\"\"\"\n",
       "                                     SARIMAX Results                                      \n",
       "==========================================================================================\n",
       "Dep. Variable:                                  y   No. Observations:                   30\n",
       "Model:             SARIMAX(2, 1, 0)x(0, 1, 0, 12)   Log Likelihood                 -89.425\n",
       "Date:                            Sat, 17 Jul 2021   AIC                            184.849\n",
       "Time:                                    19:48:26   BIC                            187.349\n",
       "Sample:                                         0   HQIC                           185.098\n",
       "                                             - 30                                         \n",
       "Covariance Type:                              opg                                         \n",
       "==============================================================================\n",
       "                 coef    std err          z      P>|z|      [0.025      0.975]\n",
       "------------------------------------------------------------------------------\n",
       "ar.L1         -0.7468      0.247     -3.023      0.003      -1.231      -0.263\n",
       "ar.L2         -0.7369      0.201     -3.668      0.000      -1.131      -0.343\n",
       "sigma2      1959.1808    961.963      2.037      0.042      73.769    3844.593\n",
       "===================================================================================\n",
       "Ljung-Box (L1) (Q):                   0.09   Jarque-Bera (JB):                 1.07\n",
       "Prob(Q):                              0.77   Prob(JB):                         0.58\n",
       "Heteroskedasticity (H):               3.85   Skew:                            -0.59\n",
       "Prob(H) (two-sided):                  0.13   Kurtosis:                         2.67\n",
       "===================================================================================\n",
       "\n",
       "Warnings:\n",
       "[1] Covariance matrix calculated using the outer product of gradients (complex-step).\n",
       "\"\"\""
      ]
     },
     "execution_count": 42,
     "metadata": {},
     "output_type": "execute_result"
    }
   ],
   "source": [
    "from pmdarima import auto_arima\n",
    "\n",
    "Sarimax_model = auto_arima(train_data.score,\n",
    "                       start_p=0,\n",
    "                       start_q=0,\n",
    "                       max_p=3,\n",
    "                       max_q=3,\n",
    "                       m=12,\n",
    "                       test='adf',\n",
    "                       seasonal=True,\n",
    "                       d=1,\n",
    "                       D=1,\n",
    "                       trace=True,\n",
    "                       error_action='ignore',\n",
    "                       suppress_warnings=True,\n",
    "                       stepwise=True)\n",
    "\n",
    "Sarimax_model.summary()"
   ]
  },
  {
   "cell_type": "code",
   "execution_count": null,
   "id": "21744c07",
   "metadata": {},
   "outputs": [],
   "source": []
  },
  {
   "cell_type": "markdown",
   "id": "d210edf1",
   "metadata": {},
   "source": [
    "##### The best model chosen by Auto ARIMA is <br> \n",
    "\n",
    "Best model:  ARIMA(2,1,0)(0,1,0)[12] \n",
    "\n",
    "p=2\n",
    "d=1\n",
    "q=0\n",
    "\n",
    "P=0\n",
    "D=1\n",
    "Q=0\n",
    "m=12\n",
    "\n",
    "Let us use these parameter values to SARIMA model as below. "
   ]
  },
  {
   "cell_type": "markdown",
   "id": "74574a5d",
   "metadata": {},
   "source": [
    "### 3.6  SARIMA Model Training & Forecast"
   ]
  },
  {
   "cell_type": "code",
   "execution_count": 43,
   "id": "319abf1c",
   "metadata": {},
   "outputs": [],
   "source": [
    "from statsmodels.tsa.statespace.sarimax import SARIMAX\n",
    "\n",
    "my_order = (2,1,0)\n",
    "\n",
    "my_seasonal_order = (0, 1, 0, 12)\n",
    "\n",
    "# define model\n",
    "model = SARIMAX(train_data.score, order=my_order, seasonal_order=my_seasonal_order)"
   ]
  },
  {
   "cell_type": "code",
   "execution_count": 44,
   "id": "380aa860",
   "metadata": {},
   "outputs": [],
   "source": [
    "#fit the model\n",
    "model_fit = model.fit()"
   ]
  },
  {
   "cell_type": "code",
   "execution_count": 45,
   "id": "8c760296",
   "metadata": {},
   "outputs": [
    {
     "name": "stdout",
     "output_type": "stream",
     "text": [
      "                                     SARIMAX Results                                      \n",
      "==========================================================================================\n",
      "Dep. Variable:                              score   No. Observations:                   30\n",
      "Model:             SARIMAX(2, 1, 0)x(0, 1, 0, 12)   Log Likelihood                 -89.425\n",
      "Date:                            Sat, 17 Jul 2021   AIC                            184.849\n",
      "Time:                                    19:48:26   BIC                            187.349\n",
      "Sample:                                01-31-2017   HQIC                           185.098\n",
      "                                     - 06-30-2019                                         \n",
      "Covariance Type:                              opg                                         \n",
      "==============================================================================\n",
      "                 coef    std err          z      P>|z|      [0.025      0.975]\n",
      "------------------------------------------------------------------------------\n",
      "ar.L1         -0.7468      0.247     -3.023      0.003      -1.231      -0.263\n",
      "ar.L2         -0.7369      0.201     -3.668      0.000      -1.131      -0.343\n",
      "sigma2      1959.1808    961.963      2.037      0.042      73.769    3844.593\n",
      "===================================================================================\n",
      "Ljung-Box (L1) (Q):                   0.09   Jarque-Bera (JB):                 1.07\n",
      "Prob(Q):                              0.77   Prob(JB):                         0.58\n",
      "Heteroskedasticity (H):               3.85   Skew:                            -0.59\n",
      "Prob(H) (two-sided):                  0.13   Kurtosis:                         2.67\n",
      "===================================================================================\n",
      "\n",
      "Warnings:\n",
      "[1] Covariance matrix calculated using the outer product of gradients (complex-step).\n"
     ]
    }
   ],
   "source": [
    "print(model_fit.summary())"
   ]
  },
  {
   "cell_type": "markdown",
   "id": "3fe8ec6f",
   "metadata": {},
   "source": [
    "##### Forecast the data for the corresponding test time steps"
   ]
  },
  {
   "cell_type": "code",
   "execution_count": 46,
   "id": "2fd0d0e4",
   "metadata": {},
   "outputs": [],
   "source": [
    "#get the predictions and residuals\n",
    "predictions = model_fit.forecast(len(test_data.score))\n",
    "predictions = pd.Series(predictions, index=test_data.index)\n",
    "residuals = test_data.score - predictions"
   ]
  },
  {
   "cell_type": "markdown",
   "id": "14c06cc9",
   "metadata": {},
   "source": [
    "##### Plot the residuals in the predicted test data "
   ]
  },
  {
   "cell_type": "code",
   "execution_count": 47,
   "id": "b34cfe00",
   "metadata": {},
   "outputs": [
    {
     "data": {
      "text/plain": [
       "week\n",
       "2019-07-31   -16.772849\n",
       "2019-08-31    -7.758825\n",
       "2019-09-30    -3.708406\n",
       "2019-10-31    28.551273\n",
       "2019-11-30    40.809730\n",
       "2019-12-31   -14.002126\n",
       "Freq: M, dtype: float64"
      ]
     },
     "execution_count": 47,
     "metadata": {},
     "output_type": "execute_result"
    }
   ],
   "source": [
    "residuals"
   ]
  },
  {
   "cell_type": "code",
   "execution_count": 48,
   "id": "531ea6fb",
   "metadata": {},
   "outputs": [
    {
     "data": {
      "text/plain": [
       "Text(0, 0.5, 'Error')"
      ]
     },
     "execution_count": 48,
     "metadata": {},
     "output_type": "execute_result"
    },
    {
     "data": {
      "image/png": "[encoded data removed]",
      "text/plain": [
       "<Figure size 720x288 with 1 Axes>"
      ]
     },
     "metadata": {
      "needs_background": "light"
     },
     "output_type": "display_data"
    }
   ],
   "source": [
    "plt.figure(figsize=(10,4))\n",
    "plt.plot(residuals)\n",
    "plt.axhline(0, linestyle='--', color='k')\n",
    "plt.title('Residuals from SARIMA Model', fontsize=20)\n",
    "plt.ylabel('Error', fontsize=16)"
   ]
  },
  {
   "cell_type": "code",
   "execution_count": 49,
   "id": "5a77233e",
   "metadata": {},
   "outputs": [
    {
     "data": {
      "text/plain": [
       "4.519799727967931"
      ]
     },
     "execution_count": 49,
     "metadata": {},
     "output_type": "execute_result"
    }
   ],
   "source": [
    "residuals.mean()"
   ]
  },
  {
   "cell_type": "markdown",
   "id": "fbbd94ab",
   "metadata": {},
   "source": [
    "##### Ideally residuals should have mean as 0, but we see it is 4.5 which is not bad.."
   ]
  },
  {
   "cell_type": "code",
   "execution_count": 50,
   "id": "62a5a1a4",
   "metadata": {},
   "outputs": [
    {
     "data": {
      "text/plain": [
       "week\n",
       "2019-07-31    299.772849\n",
       "2019-08-31    296.758825\n",
       "2019-09-30    426.708406\n",
       "2019-10-31    273.448727\n",
       "2019-11-30    278.190270\n",
       "2019-12-31    367.002126\n",
       "Freq: M, Name: predicted_mean, dtype: float64"
      ]
     },
     "execution_count": 50,
     "metadata": {},
     "output_type": "execute_result"
    }
   ],
   "source": [
    "predictions"
   ]
  },
  {
   "cell_type": "markdown",
   "id": "6afbdff2",
   "metadata": {},
   "source": [
    "##### Plot Train data, Test data and predictions of the test data "
   ]
  },
  {
   "cell_type": "code",
   "execution_count": 51,
   "id": "b77fb375",
   "metadata": {},
   "outputs": [
    {
     "data": {
      "text/plain": [
       "Text(0.5, 0, 'Time')"
      ]
     },
     "execution_count": 51,
     "metadata": {},
     "output_type": "execute_result"
    },
    {
     "data": {
      "image/png": "[encoded data removed]",
      "text/plain": [
       "<Figure size 1152x576 with 1 Axes>"
      ]
     },
     "metadata": {
      "needs_background": "light"
     },
     "output_type": "display_data"
    }
   ],
   "source": [
    "plt.figure(figsize=(16,8))\n",
    "\n",
    "plt.plot(lim_data.score, \"b.-\")\n",
    "plt.plot(test_data.score, \"ro-\")\n",
    "plt.plot(predictions, \"gx-\")\n",
    "\n",
    "plt.legend(('Train Data', 'Original Test Data', 'Forecast'), fontsize=16)\n",
    "\n",
    "plt.title('Search Score Forecast', fontsize=20)\n",
    "plt.ylabel('Score', fontsize=16)\n",
    "plt.xlabel('Time', fontsize=16)\n",
    "\n",
    "#for year in range(start_date.year,end_date.year):\n",
    " #   plt.axvline(pd.to_datetime(str(year)+'-01-01'), color='k', linestyle='--', alpha=0.2)"
   ]
  },
  {
   "cell_type": "markdown",
   "id": "5546d1ac",
   "metadata": {},
   "source": [
    "### Forecast predictions look nice and fairly close to the shape of the original time series !!"
   ]
  },
  {
   "cell_type": "markdown",
   "id": "65831208",
   "metadata": {},
   "source": [
    "##### MAPE estimation"
   ]
  },
  {
   "cell_type": "code",
   "execution_count": 52,
   "id": "4c8366c3",
   "metadata": {},
   "outputs": [
    {
     "name": "stdout",
     "output_type": "stream",
     "text": [
      "Mean Absolute Percent Error: 0.06\n"
     ]
    }
   ],
   "source": [
    "print('Mean Absolute Percent Error:', round(np.mean(abs(residuals/test_data.score)),3))"
   ]
  },
  {
   "cell_type": "markdown",
   "id": "f0f2c8d2",
   "metadata": {},
   "source": [
    "##### We get MAPE of nearly 6% which is much better than the baseline model which gave 11%."
   ]
  },
  {
   "cell_type": "code",
   "execution_count": 53,
   "id": "42e2a6c8",
   "metadata": {},
   "outputs": [
    {
     "name": "stdout",
     "output_type": "stream",
     "text": [
      "Root Mean Squared Error: 22.479431030281887\n"
     ]
    }
   ],
   "source": [
    "print('Root Mean Squared Error:', np.sqrt(np.mean(residuals**2)))"
   ]
  },
  {
   "cell_type": "code",
   "execution_count": 54,
   "id": "68715dd9",
   "metadata": {},
   "outputs": [
    {
     "data": {
      "text/plain": [
       "week\n",
       "2019-07-31    283\n",
       "2019-08-31    289\n",
       "2019-09-30    423\n",
       "2019-10-31    302\n",
       "2019-11-30    319\n",
       "2019-12-31    353\n",
       "Freq: M, Name: score, dtype: int32"
      ]
     },
     "execution_count": 54,
     "metadata": {},
     "output_type": "execute_result"
    }
   ],
   "source": [
    "test_data.score"
   ]
  },
  {
   "cell_type": "code",
   "execution_count": 55,
   "id": "914572ad",
   "metadata": {},
   "outputs": [
    {
     "data": {
      "text/plain": [
       "week\n",
       "2019-07-31    299.772849\n",
       "2019-08-31    296.758825\n",
       "2019-09-30    426.708406\n",
       "2019-10-31    273.448727\n",
       "2019-11-30    278.190270\n",
       "2019-12-31    367.002126\n",
       "Freq: M, Name: predicted_mean, dtype: float64"
      ]
     },
     "execution_count": 55,
     "metadata": {},
     "output_type": "execute_result"
    }
   ],
   "source": [
    "predictions"
   ]
  },
  {
   "cell_type": "code",
   "execution_count": null,
   "id": "8c763c96",
   "metadata": {},
   "outputs": [],
   "source": []
  },
  {
   "cell_type": "markdown",
   "id": "ede56f11",
   "metadata": {},
   "source": [
    "### 3.7  Rolling Forecast"
   ]
  },
  {
   "cell_type": "markdown",
   "id": "32e4171d",
   "metadata": {},
   "source": [
    "Here we forecast time steps one by one by training on all it's previous time steps.\n",
    "\n",
    "For example, \n",
    "we first train on the actual data of t time steps and forecast data for t+1.\n",
    "Then we train on the actual data of t+1 time steps and forecast data for t+2.\n",
    "And so on..\n"
   ]
  },
  {
   "cell_type": "code",
   "execution_count": 56,
   "id": "5d0a1003",
   "metadata": {},
   "outputs": [
    {
     "name": "stdout",
     "output_type": "stream",
     "text": [
      "DatetimeIndex(['2019-07-31', '2019-08-31', '2019-09-30', '2019-10-31',\n",
      "               '2019-11-30', '2019-12-31'],\n",
      "              dtype='datetime64[ns]', name='week', freq='M')\n"
     ]
    },
    {
     "data": {
      "text/plain": [
       "(30, 4)"
      ]
     },
     "execution_count": 56,
     "metadata": {},
     "output_type": "execute_result"
    }
   ],
   "source": [
    "print(test_data.index)\n",
    "train_data.shape"
   ]
  },
  {
   "cell_type": "code",
   "execution_count": 57,
   "id": "55c64f35",
   "metadata": {},
   "outputs": [
    {
     "data": {
      "text/plain": [
       "week\n",
       "2019-07-31    299.772849\n",
       "2019-08-31    294.811662\n",
       "2019-09-30    429.103582\n",
       "2019-10-31    256.552418\n",
       "2019-11-30    278.709646\n",
       "2019-12-31    373.826110\n",
       "Freq: M, dtype: float64"
      ]
     },
     "execution_count": 57,
     "metadata": {},
     "output_type": "execute_result"
    }
   ],
   "source": [
    "rolling_predictions = []\n",
    "\n",
    "for train_end in test_data.index:\n",
    "    #print(train_end-timedelta(days=1))\n",
    "    train_data1 = lim_data.score[:train_end-timedelta(days=1)]\n",
    "    #print(len(train_data1))\n",
    "    model = SARIMAX(train_data1, order=my_order, seasonal_order=my_seasonal_order)\n",
    "    model_fit = model.fit()\n",
    "\n",
    "    pred = model_fit.forecast()\n",
    "    rolling_predictions.append(pred[0])\n",
    "    \n",
    "rolling_predictions = pd.Series(rolling_predictions, index=test_data.index)\n",
    "rolling_predictions"
   ]
  },
  {
   "cell_type": "code",
   "execution_count": 58,
   "id": "039f0708",
   "metadata": {},
   "outputs": [
    {
     "data": {
      "text/plain": [
       "week\n",
       "2019-07-31   -16.772849\n",
       "2019-08-31    -5.811662\n",
       "2019-09-30    -6.103582\n",
       "2019-10-31    45.447582\n",
       "2019-11-30    40.290354\n",
       "2019-12-31   -20.826110\n",
       "Freq: M, dtype: float64"
      ]
     },
     "execution_count": 58,
     "metadata": {},
     "output_type": "execute_result"
    }
   ],
   "source": [
    "rolling_residuals = test_data.score - rolling_predictions\n",
    "rolling_residuals"
   ]
  },
  {
   "cell_type": "code",
   "execution_count": 59,
   "id": "b1b38ad2",
   "metadata": {},
   "outputs": [
    {
     "data": {
      "text/plain": [
       "Text(0, 0.5, 'Error')"
      ]
     },
     "execution_count": 59,
     "metadata": {},
     "output_type": "execute_result"
    },
    {
     "data": {
      "image/png": "[encoded data removed]",
      "text/plain": [
       "<Figure size 720x288 with 1 Axes>"
      ]
     },
     "metadata": {
      "needs_background": "light"
     },
     "output_type": "display_data"
    }
   ],
   "source": [
    "plt.figure(figsize=(10,4))\n",
    "plt.plot(rolling_residuals)\n",
    "plt.axhline(0, linestyle='--', color='k')\n",
    "plt.title('Rolling Forecast Residuals from SARIMA Rolling Model', fontsize=20)\n",
    "plt.ylabel('Error', fontsize=16)"
   ]
  },
  {
   "cell_type": "code",
   "execution_count": 60,
   "id": "f94cc424",
   "metadata": {},
   "outputs": [
    {
     "data": {
      "text/plain": [
       "6.037288858044718"
      ]
     },
     "execution_count": 60,
     "metadata": {},
     "output_type": "execute_result"
    }
   ],
   "source": [
    "rolling_residuals.mean()"
   ]
  },
  {
   "cell_type": "code",
   "execution_count": 61,
   "id": "c88a3113",
   "metadata": {},
   "outputs": [
    {
     "data": {
      "text/plain": [
       "Text(0.5, 0, 'Time')"
      ]
     },
     "execution_count": 61,
     "metadata": {},
     "output_type": "execute_result"
    },
    {
     "data": {
      "image/png": "[encoded data removed]",
      "text/plain": [
       "<Figure size 1152x576 with 1 Axes>"
      ]
     },
     "metadata": {
      "needs_background": "light"
     },
     "output_type": "display_data"
    }
   ],
   "source": [
    "   \n",
    "plt.figure(figsize=(16,8))\n",
    "\n",
    "plt.plot(lim_data.score, \"b.-\")\n",
    "plt.plot(test_data.score, \"ro-\")\n",
    "plt.plot(rolling_predictions, \"gx-\")\n",
    "\n",
    "plt.legend(('Train Data', 'Original Test Data', 'Rolling Forecast'), fontsize=16)\n",
    "\n",
    "plt.title('Search Score Rolling Forecast', fontsize=20)\n",
    "plt.ylabel('Score', fontsize=16)\n",
    "plt.xlabel('Time', fontsize=16)"
   ]
  },
  {
   "cell_type": "code",
   "execution_count": 62,
   "id": "2fbe3826",
   "metadata": {},
   "outputs": [
    {
     "name": "stdout",
     "output_type": "stream",
     "text": [
      "Mean Absolute Percent Error: 0.07\n"
     ]
    }
   ],
   "source": [
    "print('Mean Absolute Percent Error:', round(np.mean(abs(rolling_residuals/test_data.score)),2))"
   ]
  },
  {
   "cell_type": "markdown",
   "id": "84c08d9d",
   "metadata": {},
   "source": [
    "##### We get MAPE of nearly 7% which is slightly less than the earlier model."
   ]
  },
  {
   "cell_type": "code",
   "execution_count": 63,
   "id": "aa3e2709",
   "metadata": {},
   "outputs": [
    {
     "name": "stdout",
     "output_type": "stream",
     "text": [
      "Root Mean Squared Error: 27.30958232232495\n"
     ]
    }
   ],
   "source": [
    "print('Root Mean Squared Error:', np.sqrt(np.mean(rolling_residuals**2)))"
   ]
  },
  {
   "cell_type": "code",
   "execution_count": null,
   "id": "127e989b",
   "metadata": {},
   "outputs": [],
   "source": []
  }
 ],
 "metadata": {
  "kernelspec": {
   "display_name": "Python 3",
   "language": "python",
   "name": "python3"
  },
  "language_info": {
   "codemirror_mode": {
    "name": "ipython",
    "version": 3
   },
   "file_extension": ".py",
   "mimetype": "text/x-python",
   "name": "python",
   "nbconvert_exporter": "python",
   "pygments_lexer": "ipython3",
   "version": "3.6.13"
  }
 },
 "nbformat": 4,
 "nbformat_minor": 5
}
